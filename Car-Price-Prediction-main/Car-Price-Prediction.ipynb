{
  "cells": [
    {
      "cell_type": "markdown",
      "source": [
        "#**Car Price Prediction.**\n",
        "\n",
        "In this iPython Notebook, I have created basic Car Price Prediction with Python.\n",
        "\n",
        "It is an extension from the project: https://github.com/bharathmbb6263/Car-Price-Prediction.\n",
        "\n",
        "The Dataset used is subset of Kaggle Dataset.\n",
        "\n"
      ],
      "metadata": {
        "id": "2UwsqwJRI3dL"
      },
      "id": "2UwsqwJRI3dL"
    },
    {
      "cell_type": "code",
      "execution_count": 1,
      "id": "ffb448df",
      "metadata": {
        "_cell_guid": "b1076dfc-b9ad-4769-8c92-a6c4dae69d19",
        "_uuid": "8f2839f25d086af736a60e9eeb907d3b93b6e0e5",
        "execution": {
          "iopub.execute_input": "2022-08-11T08:28:16.781876Z",
          "iopub.status.busy": "2022-08-11T08:28:16.781275Z",
          "iopub.status.idle": "2022-08-11T08:28:17.990048Z",
          "shell.execute_reply": "2022-08-11T08:28:17.988838Z"
        },
        "papermill": {
          "duration": 1.225628,
          "end_time": "2022-08-11T08:28:17.992867",
          "exception": false,
          "start_time": "2022-08-11T08:28:16.767239",
          "status": "completed"
        },
        "tags": [],
        "id": "ffb448df"
      },
      "outputs": [],
      "source": [
        "#Importing necessary libraries and understanding the data\n",
        "import pandas as pd\n",
        "import numpy as np\n",
        "import matplotlib.pyplot as plt\n",
        "import seaborn as sns\n",
        "import os\n",
        "import warnings\n",
        "\n",
        "%matplotlib inline\n",
        "pd.set_option(\"display.max_rows\", None, \"display.max_columns\", None)\n",
        "warnings.simplefilter(action='ignore')\n",
        "plt.style.use('seaborn')"
      ]
    },
    {
      "cell_type": "code",
      "execution_count": 2,
      "id": "a0c9bfc2",
      "metadata": {
        "execution": {
          "iopub.execute_input": "2022-08-11T08:28:18.016231Z",
          "iopub.status.busy": "2022-08-11T08:28:18.015542Z",
          "iopub.status.idle": "2022-08-11T08:28:18.034202Z",
          "shell.execute_reply": "2022-08-11T08:28:18.033324Z"
        },
        "papermill": {
          "duration": 0.032769,
          "end_time": "2022-08-11T08:28:18.036808",
          "exception": false,
          "start_time": "2022-08-11T08:28:18.004039",
          "status": "completed"
        },
        "tags": [],
        "id": "a0c9bfc2"
      },
      "outputs": [],
      "source": [
        "df=pd.read_csv('/content/car_data.csv')"
      ]
    },
    {
      "cell_type": "code",
      "source": [
        "from google.colab import drive\n",
        "drive.mount('/content/drive')"
      ],
      "metadata": {
        "colab": {
          "base_uri": "https://localhost:8080/"
        },
        "id": "VpT9SnV75Q-H",
        "outputId": "68b54b36-7acc-4399-eb70-8fa4c87242f6"
      },
      "id": "VpT9SnV75Q-H",
      "execution_count": null,
      "outputs": [
        {
          "output_type": "stream",
          "name": "stdout",
          "text": [
            "Drive already mounted at /content/drive; to attempt to forcibly remount, call drive.mount(\"/content/drive\", force_remount=True).\n"
          ]
        }
      ]
    },
    {
      "cell_type": "markdown",
      "id": "f6ea9d71",
      "metadata": {
        "papermill": {
          "duration": 0.009955,
          "end_time": "2022-08-11T08:28:18.057696",
          "exception": false,
          "start_time": "2022-08-11T08:28:18.047741",
          "status": "completed"
        },
        "tags": [],
        "id": "f6ea9d71"
      },
      "source": [
        "# **Reading and Understanding the dataset**"
      ]
    },
    {
      "cell_type": "code",
      "execution_count": 3,
      "id": "554b6cd0",
      "metadata": {
        "execution": {
          "iopub.execute_input": "2022-08-11T08:28:18.081471Z",
          "iopub.status.busy": "2022-08-11T08:28:18.080854Z",
          "iopub.status.idle": "2022-08-11T08:28:18.108841Z",
          "shell.execute_reply": "2022-08-11T08:28:18.108021Z"
        },
        "papermill": {
          "duration": 0.042604,
          "end_time": "2022-08-11T08:28:18.111810",
          "exception": false,
          "start_time": "2022-08-11T08:28:18.069206",
          "status": "completed"
        },
        "tags": [],
        "colab": {
          "base_uri": "https://localhost:8080/",
          "height": 206
        },
        "id": "554b6cd0",
        "outputId": "e6128aef-8e48-4f17-bd0b-8deb3562f698"
      },
      "outputs": [
        {
          "output_type": "execute_result",
          "data": {
            "text/plain": [
              "  Car_Name  Year  Selling_Price  Present_Price  Kms_Driven Fuel_Type  \\\n",
              "0     ritz  2014           3.35           5.59       27000    Petrol   \n",
              "1      sx4  2013           4.75           9.54       43000    Diesel   \n",
              "2     ciaz  2017           7.25           9.85        6900    Petrol   \n",
              "3  wagon r  2011           2.85           4.15        5200    Petrol   \n",
              "4    swift  2014           4.60           6.87       42450    Diesel   \n",
              "\n",
              "  Seller_Type Transmission  Owner  \n",
              "0      Dealer       Manual      0  \n",
              "1      Dealer       Manual      0  \n",
              "2      Dealer       Manual      0  \n",
              "3      Dealer       Manual      0  \n",
              "4      Dealer       Manual      0  "
            ],
            "text/html": [
              "\n",
              "  <div id=\"df-111bc708-895a-4197-ae1b-fcbf370f98fc\">\n",
              "    <div class=\"colab-df-container\">\n",
              "      <div>\n",
              "<style scoped>\n",
              "    .dataframe tbody tr th:only-of-type {\n",
              "        vertical-align: middle;\n",
              "    }\n",
              "\n",
              "    .dataframe tbody tr th {\n",
              "        vertical-align: top;\n",
              "    }\n",
              "\n",
              "    .dataframe thead th {\n",
              "        text-align: right;\n",
              "    }\n",
              "</style>\n",
              "<table border=\"1\" class=\"dataframe\">\n",
              "  <thead>\n",
              "    <tr style=\"text-align: right;\">\n",
              "      <th></th>\n",
              "      <th>Car_Name</th>\n",
              "      <th>Year</th>\n",
              "      <th>Selling_Price</th>\n",
              "      <th>Present_Price</th>\n",
              "      <th>Kms_Driven</th>\n",
              "      <th>Fuel_Type</th>\n",
              "      <th>Seller_Type</th>\n",
              "      <th>Transmission</th>\n",
              "      <th>Owner</th>\n",
              "    </tr>\n",
              "  </thead>\n",
              "  <tbody>\n",
              "    <tr>\n",
              "      <th>0</th>\n",
              "      <td>ritz</td>\n",
              "      <td>2014</td>\n",
              "      <td>3.35</td>\n",
              "      <td>5.59</td>\n",
              "      <td>27000</td>\n",
              "      <td>Petrol</td>\n",
              "      <td>Dealer</td>\n",
              "      <td>Manual</td>\n",
              "      <td>0</td>\n",
              "    </tr>\n",
              "    <tr>\n",
              "      <th>1</th>\n",
              "      <td>sx4</td>\n",
              "      <td>2013</td>\n",
              "      <td>4.75</td>\n",
              "      <td>9.54</td>\n",
              "      <td>43000</td>\n",
              "      <td>Diesel</td>\n",
              "      <td>Dealer</td>\n",
              "      <td>Manual</td>\n",
              "      <td>0</td>\n",
              "    </tr>\n",
              "    <tr>\n",
              "      <th>2</th>\n",
              "      <td>ciaz</td>\n",
              "      <td>2017</td>\n",
              "      <td>7.25</td>\n",
              "      <td>9.85</td>\n",
              "      <td>6900</td>\n",
              "      <td>Petrol</td>\n",
              "      <td>Dealer</td>\n",
              "      <td>Manual</td>\n",
              "      <td>0</td>\n",
              "    </tr>\n",
              "    <tr>\n",
              "      <th>3</th>\n",
              "      <td>wagon r</td>\n",
              "      <td>2011</td>\n",
              "      <td>2.85</td>\n",
              "      <td>4.15</td>\n",
              "      <td>5200</td>\n",
              "      <td>Petrol</td>\n",
              "      <td>Dealer</td>\n",
              "      <td>Manual</td>\n",
              "      <td>0</td>\n",
              "    </tr>\n",
              "    <tr>\n",
              "      <th>4</th>\n",
              "      <td>swift</td>\n",
              "      <td>2014</td>\n",
              "      <td>4.60</td>\n",
              "      <td>6.87</td>\n",
              "      <td>42450</td>\n",
              "      <td>Diesel</td>\n",
              "      <td>Dealer</td>\n",
              "      <td>Manual</td>\n",
              "      <td>0</td>\n",
              "    </tr>\n",
              "  </tbody>\n",
              "</table>\n",
              "</div>\n",
              "      <button class=\"colab-df-convert\" onclick=\"convertToInteractive('df-111bc708-895a-4197-ae1b-fcbf370f98fc')\"\n",
              "              title=\"Convert this dataframe to an interactive table.\"\n",
              "              style=\"display:none;\">\n",
              "        \n",
              "  <svg xmlns=\"http://www.w3.org/2000/svg\" height=\"24px\"viewBox=\"0 0 24 24\"\n",
              "       width=\"24px\">\n",
              "    <path d=\"M0 0h24v24H0V0z\" fill=\"none\"/>\n",
              "    <path d=\"M18.56 5.44l.94 2.06.94-2.06 2.06-.94-2.06-.94-.94-2.06-.94 2.06-2.06.94zm-11 1L8.5 8.5l.94-2.06 2.06-.94-2.06-.94L8.5 2.5l-.94 2.06-2.06.94zm10 10l.94 2.06.94-2.06 2.06-.94-2.06-.94-.94-2.06-.94 2.06-2.06.94z\"/><path d=\"M17.41 7.96l-1.37-1.37c-.4-.4-.92-.59-1.43-.59-.52 0-1.04.2-1.43.59L10.3 9.45l-7.72 7.72c-.78.78-.78 2.05 0 2.83L4 21.41c.39.39.9.59 1.41.59.51 0 1.02-.2 1.41-.59l7.78-7.78 2.81-2.81c.8-.78.8-2.07 0-2.86zM5.41 20L4 18.59l7.72-7.72 1.47 1.35L5.41 20z\"/>\n",
              "  </svg>\n",
              "      </button>\n",
              "      \n",
              "  <style>\n",
              "    .colab-df-container {\n",
              "      display:flex;\n",
              "      flex-wrap:wrap;\n",
              "      gap: 12px;\n",
              "    }\n",
              "\n",
              "    .colab-df-convert {\n",
              "      background-color: #E8F0FE;\n",
              "      border: none;\n",
              "      border-radius: 50%;\n",
              "      cursor: pointer;\n",
              "      display: none;\n",
              "      fill: #1967D2;\n",
              "      height: 32px;\n",
              "      padding: 0 0 0 0;\n",
              "      width: 32px;\n",
              "    }\n",
              "\n",
              "    .colab-df-convert:hover {\n",
              "      background-color: #E2EBFA;\n",
              "      box-shadow: 0px 1px 2px rgba(60, 64, 67, 0.3), 0px 1px 3px 1px rgba(60, 64, 67, 0.15);\n",
              "      fill: #174EA6;\n",
              "    }\n",
              "\n",
              "    [theme=dark] .colab-df-convert {\n",
              "      background-color: #3B4455;\n",
              "      fill: #D2E3FC;\n",
              "    }\n",
              "\n",
              "    [theme=dark] .colab-df-convert:hover {\n",
              "      background-color: #434B5C;\n",
              "      box-shadow: 0px 1px 3px 1px rgba(0, 0, 0, 0.15);\n",
              "      filter: drop-shadow(0px 1px 2px rgba(0, 0, 0, 0.3));\n",
              "      fill: #FFFFFF;\n",
              "    }\n",
              "  </style>\n",
              "\n",
              "      <script>\n",
              "        const buttonEl =\n",
              "          document.querySelector('#df-111bc708-895a-4197-ae1b-fcbf370f98fc button.colab-df-convert');\n",
              "        buttonEl.style.display =\n",
              "          google.colab.kernel.accessAllowed ? 'block' : 'none';\n",
              "\n",
              "        async function convertToInteractive(key) {\n",
              "          const element = document.querySelector('#df-111bc708-895a-4197-ae1b-fcbf370f98fc');\n",
              "          const dataTable =\n",
              "            await google.colab.kernel.invokeFunction('convertToInteractive',\n",
              "                                                     [key], {});\n",
              "          if (!dataTable) return;\n",
              "\n",
              "          const docLinkHtml = 'Like what you see? Visit the ' +\n",
              "            '<a target=\"_blank\" href=https://colab.research.google.com/notebooks/data_table.ipynb>data table notebook</a>'\n",
              "            + ' to learn more about interactive tables.';\n",
              "          element.innerHTML = '';\n",
              "          dataTable['output_type'] = 'display_data';\n",
              "          await google.colab.output.renderOutput(dataTable, element);\n",
              "          const docLink = document.createElement('div');\n",
              "          docLink.innerHTML = docLinkHtml;\n",
              "          element.appendChild(docLink);\n",
              "        }\n",
              "      </script>\n",
              "    </div>\n",
              "  </div>\n",
              "  "
            ]
          },
          "metadata": {},
          "execution_count": 3
        }
      ],
      "source": [
        "df.head()"
      ]
    },
    {
      "cell_type": "code",
      "execution_count": 4,
      "id": "0a0ff929",
      "metadata": {
        "execution": {
          "iopub.execute_input": "2022-08-11T08:28:18.135715Z",
          "iopub.status.busy": "2022-08-11T08:28:18.135143Z",
          "iopub.status.idle": "2022-08-11T08:28:18.141874Z",
          "shell.execute_reply": "2022-08-11T08:28:18.140835Z"
        },
        "papermill": {
          "duration": 0.021232,
          "end_time": "2022-08-11T08:28:18.143951",
          "exception": false,
          "start_time": "2022-08-11T08:28:18.122719",
          "status": "completed"
        },
        "tags": [],
        "colab": {
          "base_uri": "https://localhost:8080/"
        },
        "id": "0a0ff929",
        "outputId": "de48a411-f02c-414e-e3a4-a71e594c6831"
      },
      "outputs": [
        {
          "output_type": "execute_result",
          "data": {
            "text/plain": [
              "(301, 9)"
            ]
          },
          "metadata": {},
          "execution_count": 4
        }
      ],
      "source": [
        "df.shape"
      ]
    },
    {
      "cell_type": "code",
      "execution_count": 5,
      "id": "26952705",
      "metadata": {
        "execution": {
          "iopub.execute_input": "2022-08-11T08:28:18.167525Z",
          "iopub.status.busy": "2022-08-11T08:28:18.167071Z",
          "iopub.status.idle": "2022-08-11T08:28:18.193067Z",
          "shell.execute_reply": "2022-08-11T08:28:18.191992Z"
        },
        "papermill": {
          "duration": 0.041354,
          "end_time": "2022-08-11T08:28:18.196178",
          "exception": false,
          "start_time": "2022-08-11T08:28:18.154824",
          "status": "completed"
        },
        "tags": [],
        "colab": {
          "base_uri": "https://localhost:8080/"
        },
        "id": "26952705",
        "outputId": "dbc3221e-5ba6-42cf-aa15-3d65d261dd98"
      },
      "outputs": [
        {
          "output_type": "stream",
          "name": "stdout",
          "text": [
            "<class 'pandas.core.frame.DataFrame'>\n",
            "RangeIndex: 301 entries, 0 to 300\n",
            "Data columns (total 9 columns):\n",
            " #   Column         Non-Null Count  Dtype  \n",
            "---  ------         --------------  -----  \n",
            " 0   Car_Name       301 non-null    object \n",
            " 1   Year           301 non-null    int64  \n",
            " 2   Selling_Price  301 non-null    float64\n",
            " 3   Present_Price  301 non-null    float64\n",
            " 4   Kms_Driven     301 non-null    int64  \n",
            " 5   Fuel_Type      301 non-null    object \n",
            " 6   Seller_Type    301 non-null    object \n",
            " 7   Transmission   301 non-null    object \n",
            " 8   Owner          301 non-null    int64  \n",
            "dtypes: float64(2), int64(3), object(4)\n",
            "memory usage: 21.3+ KB\n"
          ]
        }
      ],
      "source": [
        "df.info()"
      ]
    },
    {
      "cell_type": "code",
      "execution_count": 6,
      "id": "54772ba6",
      "metadata": {
        "execution": {
          "iopub.execute_input": "2022-08-11T08:28:18.222504Z",
          "iopub.status.busy": "2022-08-11T08:28:18.221737Z",
          "iopub.status.idle": "2022-08-11T08:28:18.249628Z",
          "shell.execute_reply": "2022-08-11T08:28:18.248340Z"
        },
        "papermill": {
          "duration": 0.043655,
          "end_time": "2022-08-11T08:28:18.252115",
          "exception": false,
          "start_time": "2022-08-11T08:28:18.208460",
          "status": "completed"
        },
        "tags": [],
        "colab": {
          "base_uri": "https://localhost:8080/",
          "height": 300
        },
        "id": "54772ba6",
        "outputId": "28ef0675-c464-4532-b0c7-34f43e19d556"
      },
      "outputs": [
        {
          "output_type": "execute_result",
          "data": {
            "text/plain": [
              "              Year  Selling_Price  Present_Price     Kms_Driven       Owner\n",
              "count   301.000000     301.000000     301.000000     301.000000  301.000000\n",
              "mean   2013.627907       4.661296       7.628472   36947.205980    0.043189\n",
              "std       2.891554       5.082812       8.644115   38886.883882    0.247915\n",
              "min    2003.000000       0.100000       0.320000     500.000000    0.000000\n",
              "25%    2012.000000       0.900000       1.200000   15000.000000    0.000000\n",
              "50%    2014.000000       3.600000       6.400000   32000.000000    0.000000\n",
              "75%    2016.000000       6.000000       9.900000   48767.000000    0.000000\n",
              "max    2018.000000      35.000000      92.600000  500000.000000    3.000000"
            ],
            "text/html": [
              "\n",
              "  <div id=\"df-e0152d34-8718-4fe0-8318-374ed82fb202\">\n",
              "    <div class=\"colab-df-container\">\n",
              "      <div>\n",
              "<style scoped>\n",
              "    .dataframe tbody tr th:only-of-type {\n",
              "        vertical-align: middle;\n",
              "    }\n",
              "\n",
              "    .dataframe tbody tr th {\n",
              "        vertical-align: top;\n",
              "    }\n",
              "\n",
              "    .dataframe thead th {\n",
              "        text-align: right;\n",
              "    }\n",
              "</style>\n",
              "<table border=\"1\" class=\"dataframe\">\n",
              "  <thead>\n",
              "    <tr style=\"text-align: right;\">\n",
              "      <th></th>\n",
              "      <th>Year</th>\n",
              "      <th>Selling_Price</th>\n",
              "      <th>Present_Price</th>\n",
              "      <th>Kms_Driven</th>\n",
              "      <th>Owner</th>\n",
              "    </tr>\n",
              "  </thead>\n",
              "  <tbody>\n",
              "    <tr>\n",
              "      <th>count</th>\n",
              "      <td>301.000000</td>\n",
              "      <td>301.000000</td>\n",
              "      <td>301.000000</td>\n",
              "      <td>301.000000</td>\n",
              "      <td>301.000000</td>\n",
              "    </tr>\n",
              "    <tr>\n",
              "      <th>mean</th>\n",
              "      <td>2013.627907</td>\n",
              "      <td>4.661296</td>\n",
              "      <td>7.628472</td>\n",
              "      <td>36947.205980</td>\n",
              "      <td>0.043189</td>\n",
              "    </tr>\n",
              "    <tr>\n",
              "      <th>std</th>\n",
              "      <td>2.891554</td>\n",
              "      <td>5.082812</td>\n",
              "      <td>8.644115</td>\n",
              "      <td>38886.883882</td>\n",
              "      <td>0.247915</td>\n",
              "    </tr>\n",
              "    <tr>\n",
              "      <th>min</th>\n",
              "      <td>2003.000000</td>\n",
              "      <td>0.100000</td>\n",
              "      <td>0.320000</td>\n",
              "      <td>500.000000</td>\n",
              "      <td>0.000000</td>\n",
              "    </tr>\n",
              "    <tr>\n",
              "      <th>25%</th>\n",
              "      <td>2012.000000</td>\n",
              "      <td>0.900000</td>\n",
              "      <td>1.200000</td>\n",
              "      <td>15000.000000</td>\n",
              "      <td>0.000000</td>\n",
              "    </tr>\n",
              "    <tr>\n",
              "      <th>50%</th>\n",
              "      <td>2014.000000</td>\n",
              "      <td>3.600000</td>\n",
              "      <td>6.400000</td>\n",
              "      <td>32000.000000</td>\n",
              "      <td>0.000000</td>\n",
              "    </tr>\n",
              "    <tr>\n",
              "      <th>75%</th>\n",
              "      <td>2016.000000</td>\n",
              "      <td>6.000000</td>\n",
              "      <td>9.900000</td>\n",
              "      <td>48767.000000</td>\n",
              "      <td>0.000000</td>\n",
              "    </tr>\n",
              "    <tr>\n",
              "      <th>max</th>\n",
              "      <td>2018.000000</td>\n",
              "      <td>35.000000</td>\n",
              "      <td>92.600000</td>\n",
              "      <td>500000.000000</td>\n",
              "      <td>3.000000</td>\n",
              "    </tr>\n",
              "  </tbody>\n",
              "</table>\n",
              "</div>\n",
              "      <button class=\"colab-df-convert\" onclick=\"convertToInteractive('df-e0152d34-8718-4fe0-8318-374ed82fb202')\"\n",
              "              title=\"Convert this dataframe to an interactive table.\"\n",
              "              style=\"display:none;\">\n",
              "        \n",
              "  <svg xmlns=\"http://www.w3.org/2000/svg\" height=\"24px\"viewBox=\"0 0 24 24\"\n",
              "       width=\"24px\">\n",
              "    <path d=\"M0 0h24v24H0V0z\" fill=\"none\"/>\n",
              "    <path d=\"M18.56 5.44l.94 2.06.94-2.06 2.06-.94-2.06-.94-.94-2.06-.94 2.06-2.06.94zm-11 1L8.5 8.5l.94-2.06 2.06-.94-2.06-.94L8.5 2.5l-.94 2.06-2.06.94zm10 10l.94 2.06.94-2.06 2.06-.94-2.06-.94-.94-2.06-.94 2.06-2.06.94z\"/><path d=\"M17.41 7.96l-1.37-1.37c-.4-.4-.92-.59-1.43-.59-.52 0-1.04.2-1.43.59L10.3 9.45l-7.72 7.72c-.78.78-.78 2.05 0 2.83L4 21.41c.39.39.9.59 1.41.59.51 0 1.02-.2 1.41-.59l7.78-7.78 2.81-2.81c.8-.78.8-2.07 0-2.86zM5.41 20L4 18.59l7.72-7.72 1.47 1.35L5.41 20z\"/>\n",
              "  </svg>\n",
              "      </button>\n",
              "      \n",
              "  <style>\n",
              "    .colab-df-container {\n",
              "      display:flex;\n",
              "      flex-wrap:wrap;\n",
              "      gap: 12px;\n",
              "    }\n",
              "\n",
              "    .colab-df-convert {\n",
              "      background-color: #E8F0FE;\n",
              "      border: none;\n",
              "      border-radius: 50%;\n",
              "      cursor: pointer;\n",
              "      display: none;\n",
              "      fill: #1967D2;\n",
              "      height: 32px;\n",
              "      padding: 0 0 0 0;\n",
              "      width: 32px;\n",
              "    }\n",
              "\n",
              "    .colab-df-convert:hover {\n",
              "      background-color: #E2EBFA;\n",
              "      box-shadow: 0px 1px 2px rgba(60, 64, 67, 0.3), 0px 1px 3px 1px rgba(60, 64, 67, 0.15);\n",
              "      fill: #174EA6;\n",
              "    }\n",
              "\n",
              "    [theme=dark] .colab-df-convert {\n",
              "      background-color: #3B4455;\n",
              "      fill: #D2E3FC;\n",
              "    }\n",
              "\n",
              "    [theme=dark] .colab-df-convert:hover {\n",
              "      background-color: #434B5C;\n",
              "      box-shadow: 0px 1px 3px 1px rgba(0, 0, 0, 0.15);\n",
              "      filter: drop-shadow(0px 1px 2px rgba(0, 0, 0, 0.3));\n",
              "      fill: #FFFFFF;\n",
              "    }\n",
              "  </style>\n",
              "\n",
              "      <script>\n",
              "        const buttonEl =\n",
              "          document.querySelector('#df-e0152d34-8718-4fe0-8318-374ed82fb202 button.colab-df-convert');\n",
              "        buttonEl.style.display =\n",
              "          google.colab.kernel.accessAllowed ? 'block' : 'none';\n",
              "\n",
              "        async function convertToInteractive(key) {\n",
              "          const element = document.querySelector('#df-e0152d34-8718-4fe0-8318-374ed82fb202');\n",
              "          const dataTable =\n",
              "            await google.colab.kernel.invokeFunction('convertToInteractive',\n",
              "                                                     [key], {});\n",
              "          if (!dataTable) return;\n",
              "\n",
              "          const docLinkHtml = 'Like what you see? Visit the ' +\n",
              "            '<a target=\"_blank\" href=https://colab.research.google.com/notebooks/data_table.ipynb>data table notebook</a>'\n",
              "            + ' to learn more about interactive tables.';\n",
              "          element.innerHTML = '';\n",
              "          dataTable['output_type'] = 'display_data';\n",
              "          await google.colab.output.renderOutput(dataTable, element);\n",
              "          const docLink = document.createElement('div');\n",
              "          docLink.innerHTML = docLinkHtml;\n",
              "          element.appendChild(docLink);\n",
              "        }\n",
              "      </script>\n",
              "    </div>\n",
              "  </div>\n",
              "  "
            ]
          },
          "metadata": {},
          "execution_count": 6
        }
      ],
      "source": [
        "df.describe()"
      ]
    },
    {
      "cell_type": "code",
      "execution_count": 7,
      "id": "0a9c100d",
      "metadata": {
        "execution": {
          "iopub.execute_input": "2022-08-11T08:28:18.276622Z",
          "iopub.status.busy": "2022-08-11T08:28:18.275940Z",
          "iopub.status.idle": "2022-08-11T08:28:18.284353Z",
          "shell.execute_reply": "2022-08-11T08:28:18.283577Z"
        },
        "papermill": {
          "duration": 0.023095,
          "end_time": "2022-08-11T08:28:18.286493",
          "exception": false,
          "start_time": "2022-08-11T08:28:18.263398",
          "status": "completed"
        },
        "tags": [],
        "colab": {
          "base_uri": "https://localhost:8080/"
        },
        "id": "0a9c100d",
        "outputId": "03564133-1cf4-42ad-b12f-715a552f7b59"
      },
      "outputs": [
        {
          "output_type": "execute_result",
          "data": {
            "text/plain": [
              "Car_Name         0\n",
              "Year             0\n",
              "Selling_Price    0\n",
              "Present_Price    0\n",
              "Kms_Driven       0\n",
              "Fuel_Type        0\n",
              "Seller_Type      0\n",
              "Transmission     0\n",
              "Owner            0\n",
              "dtype: int64"
            ]
          },
          "metadata": {},
          "execution_count": 7
        }
      ],
      "source": [
        "df.isna().sum()"
      ]
    },
    {
      "cell_type": "markdown",
      "id": "d7e760d8",
      "metadata": {
        "papermill": {
          "duration": 0.01103,
          "end_time": "2022-08-11T08:28:18.308780",
          "exception": false,
          "start_time": "2022-08-11T08:28:18.297750",
          "status": "completed"
        },
        "tags": [],
        "id": "d7e760d8"
      },
      "source": [
        "# **Data Preprocessing**"
      ]
    },
    {
      "cell_type": "code",
      "execution_count": 8,
      "id": "96a4afe9",
      "metadata": {
        "execution": {
          "iopub.execute_input": "2022-08-11T08:28:18.333601Z",
          "iopub.status.busy": "2022-08-11T08:28:18.332847Z",
          "iopub.status.idle": "2022-08-11T08:28:18.339763Z",
          "shell.execute_reply": "2022-08-11T08:28:18.338675Z"
        },
        "papermill": {
          "duration": 0.022017,
          "end_time": "2022-08-11T08:28:18.342119",
          "exception": false,
          "start_time": "2022-08-11T08:28:18.320102",
          "status": "completed"
        },
        "tags": [],
        "id": "96a4afe9"
      },
      "outputs": [],
      "source": [
        "df['Age']=2022-df['Year']\n",
        "df.drop('Year', axis=1, inplace=True)"
      ]
    },
    {
      "cell_type": "code",
      "execution_count": 9,
      "id": "79ddd4e3",
      "metadata": {
        "execution": {
          "iopub.execute_input": "2022-08-11T08:28:18.367039Z",
          "iopub.status.busy": "2022-08-11T08:28:18.366290Z",
          "iopub.status.idle": "2022-08-11T08:28:18.371512Z",
          "shell.execute_reply": "2022-08-11T08:28:18.370576Z"
        },
        "papermill": {
          "duration": 0.020106,
          "end_time": "2022-08-11T08:28:18.373675",
          "exception": false,
          "start_time": "2022-08-11T08:28:18.353569",
          "status": "completed"
        },
        "tags": [],
        "id": "79ddd4e3"
      },
      "outputs": [],
      "source": [
        "df.rename(columns={'Owner':'Past_Owner'}, inplace=True)"
      ]
    },
    {
      "cell_type": "markdown",
      "id": "61cf6e34",
      "metadata": {
        "papermill": {
          "duration": 0.010979,
          "end_time": "2022-08-11T08:28:18.395868",
          "exception": false,
          "start_time": "2022-08-11T08:28:18.384889",
          "status": "completed"
        },
        "tags": [],
        "id": "61cf6e34"
      },
      "source": [
        "# EDA"
      ]
    },
    {
      "cell_type": "code",
      "execution_count": 10,
      "id": "77da5d20",
      "metadata": {
        "execution": {
          "iopub.execute_input": "2022-08-11T08:28:18.420523Z",
          "iopub.status.busy": "2022-08-11T08:28:18.420072Z",
          "iopub.status.idle": "2022-08-11T08:28:18.426352Z",
          "shell.execute_reply": "2022-08-11T08:28:18.425464Z"
        },
        "papermill": {
          "duration": 0.021235,
          "end_time": "2022-08-11T08:28:18.428442",
          "exception": false,
          "start_time": "2022-08-11T08:28:18.407207",
          "status": "completed"
        },
        "tags": [],
        "colab": {
          "base_uri": "https://localhost:8080/"
        },
        "id": "77da5d20",
        "outputId": "231dde3c-2696-4e84-f8bd-a90bbdfca966"
      },
      "outputs": [
        {
          "output_type": "execute_result",
          "data": {
            "text/plain": [
              "Index(['Car_Name', 'Selling_Price', 'Present_Price', 'Kms_Driven', 'Fuel_Type',\n",
              "       'Seller_Type', 'Transmission', 'Past_Owner', 'Age'],\n",
              "      dtype='object')"
            ]
          },
          "metadata": {},
          "execution_count": 10
        }
      ],
      "source": [
        "#Univariate Analysis\n",
        "df.columns"
      ]
    },
    {
      "cell_type": "code",
      "execution_count": 11,
      "id": "fb5a0507",
      "metadata": {
        "execution": {
          "iopub.execute_input": "2022-08-11T08:28:18.454068Z",
          "iopub.status.busy": "2022-08-11T08:28:18.453284Z",
          "iopub.status.idle": "2022-08-11T08:28:19.032183Z",
          "shell.execute_reply": "2022-08-11T08:28:19.031357Z"
        },
        "papermill": {
          "duration": 0.594471,
          "end_time": "2022-08-11T08:28:19.034517",
          "exception": false,
          "start_time": "2022-08-11T08:28:18.440046",
          "status": "completed"
        },
        "tags": [],
        "colab": {
          "base_uri": "https://localhost:8080/",
          "height": 491
        },
        "id": "fb5a0507",
        "outputId": "0fc1be61-939f-46d7-915d-f0e35e57de92"
      },
      "outputs": [
        {
          "output_type": "display_data",
          "data": {
            "text/plain": [
              "<Figure size 864x216 with 2 Axes>"
            ],
            "image/png": "[encoded data removed]"
          },
          "metadata": {}
        },
        {
          "output_type": "display_data",
          "data": {
            "text/plain": [
              "<Figure size 864x216 with 2 Axes>"
            ],
            "image/png": "[encoded data removed]"
          },
          "metadata": {}
        }
      ],
      "source": [
        "categorical_columns=['Fuel_Type', 'Seller_Type', 'Transmission', 'Past_Owner']\n",
        "i=0\n",
        "while i<4:\n",
        "    fig=plt.figure(figsize=[12,3])\n",
        "    ax1=fig.add_subplot(121)\n",
        "    ax2=fig.add_subplot(122)\n",
        "    \n",
        "    ax1.title.set_text(categorical_columns[i])\n",
        "    plt.subplot(1,2,1)\n",
        "    sns.countplot(x=categorical_columns[i], data=df)\n",
        "    i+=1\n",
        "    \n",
        "    ax2.title.set_text(categorical_columns[i])\n",
        "    plt.subplot(1,2,2)\n",
        "    sns.countplot(x=categorical_columns[i], data=df)\n",
        "    i+=1\n",
        "\n",
        "    plt.xticks(rotation = 45)\n",
        "    plt.show()"
      ]
    },
    {
      "cell_type": "code",
      "execution_count": 12,
      "id": "2b1f79c8",
      "metadata": {
        "execution": {
          "iopub.execute_input": "2022-08-11T08:28:19.061272Z",
          "iopub.status.busy": "2022-08-11T08:28:19.060654Z",
          "iopub.status.idle": "2022-08-11T08:28:19.559077Z",
          "shell.execute_reply": "2022-08-11T08:28:19.557870Z"
        },
        "papermill": {
          "duration": 0.514735,
          "end_time": "2022-08-11T08:28:19.561659",
          "exception": false,
          "start_time": "2022-08-11T08:28:19.046924",
          "status": "completed"
        },
        "tags": [],
        "colab": {
          "base_uri": "https://localhost:8080/",
          "height": 463
        },
        "id": "2b1f79c8",
        "outputId": "ea166225-eeaf-4dfa-8a20-f1fa80142c29"
      },
      "outputs": [
        {
          "output_type": "display_data",
          "data": {
            "text/plain": [
              "<Figure size 936x216 with 2 Axes>"
            ],
            "image/png": "[encoded data removed]"
          },
          "metadata": {}
        },
        {
          "output_type": "display_data",
          "data": {
            "text/plain": [
              "<Figure size 936x216 with 2 Axes>"
            ],
            "image/png": "[encoded data removed]"
          },
          "metadata": {}
        }
      ],
      "source": [
        "numerical_columns = ['Selling_Price','Present_Price','Kms_Driven','Age']\n",
        "i=0\n",
        "while i < 4:\n",
        "    fig = plt.figure(figsize=[13,3])\n",
        "    ax1 = fig.add_subplot(121)\n",
        "    ax2 = fig.add_subplot(122)\n",
        "    \n",
        "    ax1.title.set_text(numerical_columns[i])\n",
        "    plt.subplot(1,2,1)\n",
        "    sns.boxplot(x=numerical_columns[i], data=df)\n",
        "    i += 1\n",
        "    \n",
        "    ax2.title.set_text(numerical_columns[i])\n",
        "    plt.subplot(1,2,2)\n",
        "    sns.boxplot(x=numerical_columns[i], data=df)\n",
        "    i += 1\n",
        "    \n",
        "    plt.show()"
      ]
    },
    {
      "cell_type": "code",
      "execution_count": 13,
      "id": "cce90f36",
      "metadata": {
        "execution": {
          "iopub.execute_input": "2022-08-11T08:28:19.589195Z",
          "iopub.status.busy": "2022-08-11T08:28:19.588486Z",
          "iopub.status.idle": "2022-08-11T08:28:19.604269Z",
          "shell.execute_reply": "2022-08-11T08:28:19.603138Z"
        },
        "papermill": {
          "duration": 0.032406,
          "end_time": "2022-08-11T08:28:19.606684",
          "exception": false,
          "start_time": "2022-08-11T08:28:19.574278",
          "status": "completed"
        },
        "tags": [],
        "colab": {
          "base_uri": "https://localhost:8080/",
          "height": 112
        },
        "id": "cce90f36",
        "outputId": "906a44a4-223b-48c5-ecb7-92212f54043b"
      },
      "outputs": [
        {
          "output_type": "execute_result",
          "data": {
            "text/plain": [
              "        Car_Name  Selling_Price  Present_Price  Kms_Driven Fuel_Type  \\\n",
              "64      fortuner           33.0          36.23        6000    Diesel   \n",
              "86  land cruiser           35.0          92.60       78000    Diesel   \n",
              "\n",
              "   Seller_Type Transmission  Past_Owner  Age  \n",
              "64      Dealer    Automatic           0    5  \n",
              "86      Dealer       Manual           0   12  "
            ],
            "text/html": [
              "\n",
              "  <div id=\"df-c7f9efd8-2c60-43aa-b1c0-09adfa4cb9e5\">\n",
              "    <div class=\"colab-df-container\">\n",
              "      <div>\n",
              "<style scoped>\n",
              "    .dataframe tbody tr th:only-of-type {\n",
              "        vertical-align: middle;\n",
              "    }\n",
              "\n",
              "    .dataframe tbody tr th {\n",
              "        vertical-align: top;\n",
              "    }\n",
              "\n",
              "    .dataframe thead th {\n",
              "        text-align: right;\n",
              "    }\n",
              "</style>\n",
              "<table border=\"1\" class=\"dataframe\">\n",
              "  <thead>\n",
              "    <tr style=\"text-align: right;\">\n",
              "      <th></th>\n",
              "      <th>Car_Name</th>\n",
              "      <th>Selling_Price</th>\n",
              "      <th>Present_Price</th>\n",
              "      <th>Kms_Driven</th>\n",
              "      <th>Fuel_Type</th>\n",
              "      <th>Seller_Type</th>\n",
              "      <th>Transmission</th>\n",
              "      <th>Past_Owner</th>\n",
              "      <th>Age</th>\n",
              "    </tr>\n",
              "  </thead>\n",
              "  <tbody>\n",
              "    <tr>\n",
              "      <th>64</th>\n",
              "      <td>fortuner</td>\n",
              "      <td>33.0</td>\n",
              "      <td>36.23</td>\n",
              "      <td>6000</td>\n",
              "      <td>Diesel</td>\n",
              "      <td>Dealer</td>\n",
              "      <td>Automatic</td>\n",
              "      <td>0</td>\n",
              "      <td>5</td>\n",
              "    </tr>\n",
              "    <tr>\n",
              "      <th>86</th>\n",
              "      <td>land cruiser</td>\n",
              "      <td>35.0</td>\n",
              "      <td>92.60</td>\n",
              "      <td>78000</td>\n",
              "      <td>Diesel</td>\n",
              "      <td>Dealer</td>\n",
              "      <td>Manual</td>\n",
              "      <td>0</td>\n",
              "      <td>12</td>\n",
              "    </tr>\n",
              "  </tbody>\n",
              "</table>\n",
              "</div>\n",
              "      <button class=\"colab-df-convert\" onclick=\"convertToInteractive('df-c7f9efd8-2c60-43aa-b1c0-09adfa4cb9e5')\"\n",
              "              title=\"Convert this dataframe to an interactive table.\"\n",
              "              style=\"display:none;\">\n",
              "        \n",
              "  <svg xmlns=\"http://www.w3.org/2000/svg\" height=\"24px\"viewBox=\"0 0 24 24\"\n",
              "       width=\"24px\">\n",
              "    <path d=\"M0 0h24v24H0V0z\" fill=\"none\"/>\n",
              "    <path d=\"M18.56 5.44l.94 2.06.94-2.06 2.06-.94-2.06-.94-.94-2.06-.94 2.06-2.06.94zm-11 1L8.5 8.5l.94-2.06 2.06-.94-2.06-.94L8.5 2.5l-.94 2.06-2.06.94zm10 10l.94 2.06.94-2.06 2.06-.94-2.06-.94-.94-2.06-.94 2.06-2.06.94z\"/><path d=\"M17.41 7.96l-1.37-1.37c-.4-.4-.92-.59-1.43-.59-.52 0-1.04.2-1.43.59L10.3 9.45l-7.72 7.72c-.78.78-.78 2.05 0 2.83L4 21.41c.39.39.9.59 1.41.59.51 0 1.02-.2 1.41-.59l7.78-7.78 2.81-2.81c.8-.78.8-2.07 0-2.86zM5.41 20L4 18.59l7.72-7.72 1.47 1.35L5.41 20z\"/>\n",
              "  </svg>\n",
              "      </button>\n",
              "      \n",
              "  <style>\n",
              "    .colab-df-container {\n",
              "      display:flex;\n",
              "      flex-wrap:wrap;\n",
              "      gap: 12px;\n",
              "    }\n",
              "\n",
              "    .colab-df-convert {\n",
              "      background-color: #E8F0FE;\n",
              "      border: none;\n",
              "      border-radius: 50%;\n",
              "      cursor: pointer;\n",
              "      display: none;\n",
              "      fill: #1967D2;\n",
              "      height: 32px;\n",
              "      padding: 0 0 0 0;\n",
              "      width: 32px;\n",
              "    }\n",
              "\n",
              "    .colab-df-convert:hover {\n",
              "      background-color: #E2EBFA;\n",
              "      box-shadow: 0px 1px 2px rgba(60, 64, 67, 0.3), 0px 1px 3px 1px rgba(60, 64, 67, 0.15);\n",
              "      fill: #174EA6;\n",
              "    }\n",
              "\n",
              "    [theme=dark] .colab-df-convert {\n",
              "      background-color: #3B4455;\n",
              "      fill: #D2E3FC;\n",
              "    }\n",
              "\n",
              "    [theme=dark] .colab-df-convert:hover {\n",
              "      background-color: #434B5C;\n",
              "      box-shadow: 0px 1px 3px 1px rgba(0, 0, 0, 0.15);\n",
              "      filter: drop-shadow(0px 1px 2px rgba(0, 0, 0, 0.3));\n",
              "      fill: #FFFFFF;\n",
              "    }\n",
              "  </style>\n",
              "\n",
              "      <script>\n",
              "        const buttonEl =\n",
              "          document.querySelector('#df-c7f9efd8-2c60-43aa-b1c0-09adfa4cb9e5 button.colab-df-convert');\n",
              "        buttonEl.style.display =\n",
              "          google.colab.kernel.accessAllowed ? 'block' : 'none';\n",
              "\n",
              "        async function convertToInteractive(key) {\n",
              "          const element = document.querySelector('#df-c7f9efd8-2c60-43aa-b1c0-09adfa4cb9e5');\n",
              "          const dataTable =\n",
              "            await google.colab.kernel.invokeFunction('convertToInteractive',\n",
              "                                                     [key], {});\n",
              "          if (!dataTable) return;\n",
              "\n",
              "          const docLinkHtml = 'Like what you see? Visit the ' +\n",
              "            '<a target=\"_blank\" href=https://colab.research.google.com/notebooks/data_table.ipynb>data table notebook</a>'\n",
              "            + ' to learn more about interactive tables.';\n",
              "          element.innerHTML = '';\n",
              "          dataTable['output_type'] = 'display_data';\n",
              "          await google.colab.output.renderOutput(dataTable, element);\n",
              "          const docLink = document.createElement('div');\n",
              "          docLink.innerHTML = docLinkHtml;\n",
              "          element.appendChild(docLink);\n",
              "        }\n",
              "      </script>\n",
              "    </div>\n",
              "  </div>\n",
              "  "
            ]
          },
          "metadata": {},
          "execution_count": 13
        }
      ],
      "source": [
        "df[df['Present_Price']>df['Present_Price'].quantile(0.99)]"
      ]
    },
    {
      "cell_type": "code",
      "execution_count": 14,
      "id": "322966d6",
      "metadata": {
        "execution": {
          "iopub.execute_input": "2022-08-11T08:28:19.634316Z",
          "iopub.status.busy": "2022-08-11T08:28:19.633896Z",
          "iopub.status.idle": "2022-08-11T08:28:19.650795Z",
          "shell.execute_reply": "2022-08-11T08:28:19.649679Z"
        },
        "papermill": {
          "duration": 0.033475,
          "end_time": "2022-08-11T08:28:19.653282",
          "exception": false,
          "start_time": "2022-08-11T08:28:19.619807",
          "status": "completed"
        },
        "tags": [],
        "colab": {
          "base_uri": "https://localhost:8080/",
          "height": 143
        },
        "id": "322966d6",
        "outputId": "11eceab8-6b90-48ce-84f0-85a7aeedb128"
      },
      "outputs": [
        {
          "output_type": "execute_result",
          "data": {
            "text/plain": [
              "        Car_Name  Selling_Price  Present_Price  Kms_Driven Fuel_Type  \\\n",
              "63      fortuner           23.5          35.96       47000    Diesel   \n",
              "64      fortuner           33.0          36.23        6000    Diesel   \n",
              "86  land cruiser           35.0          92.60       78000    Diesel   \n",
              "\n",
              "   Seller_Type Transmission  Past_Owner  Age  \n",
              "63      Dealer    Automatic           0    7  \n",
              "64      Dealer    Automatic           0    5  \n",
              "86      Dealer       Manual           0   12  "
            ],
            "text/html": [
              "\n",
              "  <div id=\"df-9bad20b9-0777-47bb-aab3-9866486e6141\">\n",
              "    <div class=\"colab-df-container\">\n",
              "      <div>\n",
              "<style scoped>\n",
              "    .dataframe tbody tr th:only-of-type {\n",
              "        vertical-align: middle;\n",
              "    }\n",
              "\n",
              "    .dataframe tbody tr th {\n",
              "        vertical-align: top;\n",
              "    }\n",
              "\n",
              "    .dataframe thead th {\n",
              "        text-align: right;\n",
              "    }\n",
              "</style>\n",
              "<table border=\"1\" class=\"dataframe\">\n",
              "  <thead>\n",
              "    <tr style=\"text-align: right;\">\n",
              "      <th></th>\n",
              "      <th>Car_Name</th>\n",
              "      <th>Selling_Price</th>\n",
              "      <th>Present_Price</th>\n",
              "      <th>Kms_Driven</th>\n",
              "      <th>Fuel_Type</th>\n",
              "      <th>Seller_Type</th>\n",
              "      <th>Transmission</th>\n",
              "      <th>Past_Owner</th>\n",
              "      <th>Age</th>\n",
              "    </tr>\n",
              "  </thead>\n",
              "  <tbody>\n",
              "    <tr>\n",
              "      <th>63</th>\n",
              "      <td>fortuner</td>\n",
              "      <td>23.5</td>\n",
              "      <td>35.96</td>\n",
              "      <td>47000</td>\n",
              "      <td>Diesel</td>\n",
              "      <td>Dealer</td>\n",
              "      <td>Automatic</td>\n",
              "      <td>0</td>\n",
              "      <td>7</td>\n",
              "    </tr>\n",
              "    <tr>\n",
              "      <th>64</th>\n",
              "      <td>fortuner</td>\n",
              "      <td>33.0</td>\n",
              "      <td>36.23</td>\n",
              "      <td>6000</td>\n",
              "      <td>Diesel</td>\n",
              "      <td>Dealer</td>\n",
              "      <td>Automatic</td>\n",
              "      <td>0</td>\n",
              "      <td>5</td>\n",
              "    </tr>\n",
              "    <tr>\n",
              "      <th>86</th>\n",
              "      <td>land cruiser</td>\n",
              "      <td>35.0</td>\n",
              "      <td>92.60</td>\n",
              "      <td>78000</td>\n",
              "      <td>Diesel</td>\n",
              "      <td>Dealer</td>\n",
              "      <td>Manual</td>\n",
              "      <td>0</td>\n",
              "      <td>12</td>\n",
              "    </tr>\n",
              "  </tbody>\n",
              "</table>\n",
              "</div>\n",
              "      <button class=\"colab-df-convert\" onclick=\"convertToInteractive('df-9bad20b9-0777-47bb-aab3-9866486e6141')\"\n",
              "              title=\"Convert this dataframe to an interactive table.\"\n",
              "              style=\"display:none;\">\n",
              "        \n",
              "  <svg xmlns=\"http://www.w3.org/2000/svg\" height=\"24px\"viewBox=\"0 0 24 24\"\n",
              "       width=\"24px\">\n",
              "    <path d=\"M0 0h24v24H0V0z\" fill=\"none\"/>\n",
              "    <path d=\"M18.56 5.44l.94 2.06.94-2.06 2.06-.94-2.06-.94-.94-2.06-.94 2.06-2.06.94zm-11 1L8.5 8.5l.94-2.06 2.06-.94-2.06-.94L8.5 2.5l-.94 2.06-2.06.94zm10 10l.94 2.06.94-2.06 2.06-.94-2.06-.94-.94-2.06-.94 2.06-2.06.94z\"/><path d=\"M17.41 7.96l-1.37-1.37c-.4-.4-.92-.59-1.43-.59-.52 0-1.04.2-1.43.59L10.3 9.45l-7.72 7.72c-.78.78-.78 2.05 0 2.83L4 21.41c.39.39.9.59 1.41.59.51 0 1.02-.2 1.41-.59l7.78-7.78 2.81-2.81c.8-.78.8-2.07 0-2.86zM5.41 20L4 18.59l7.72-7.72 1.47 1.35L5.41 20z\"/>\n",
              "  </svg>\n",
              "      </button>\n",
              "      \n",
              "  <style>\n",
              "    .colab-df-container {\n",
              "      display:flex;\n",
              "      flex-wrap:wrap;\n",
              "      gap: 12px;\n",
              "    }\n",
              "\n",
              "    .colab-df-convert {\n",
              "      background-color: #E8F0FE;\n",
              "      border: none;\n",
              "      border-radius: 50%;\n",
              "      cursor: pointer;\n",
              "      display: none;\n",
              "      fill: #1967D2;\n",
              "      height: 32px;\n",
              "      padding: 0 0 0 0;\n",
              "      width: 32px;\n",
              "    }\n",
              "\n",
              "    .colab-df-convert:hover {\n",
              "      background-color: #E2EBFA;\n",
              "      box-shadow: 0px 1px 2px rgba(60, 64, 67, 0.3), 0px 1px 3px 1px rgba(60, 64, 67, 0.15);\n",
              "      fill: #174EA6;\n",
              "    }\n",
              "\n",
              "    [theme=dark] .colab-df-convert {\n",
              "      background-color: #3B4455;\n",
              "      fill: #D2E3FC;\n",
              "    }\n",
              "\n",
              "    [theme=dark] .colab-df-convert:hover {\n",
              "      background-color: #434B5C;\n",
              "      box-shadow: 0px 1px 3px 1px rgba(0, 0, 0, 0.15);\n",
              "      filter: drop-shadow(0px 1px 2px rgba(0, 0, 0, 0.3));\n",
              "      fill: #FFFFFF;\n",
              "    }\n",
              "  </style>\n",
              "\n",
              "      <script>\n",
              "        const buttonEl =\n",
              "          document.querySelector('#df-9bad20b9-0777-47bb-aab3-9866486e6141 button.colab-df-convert');\n",
              "        buttonEl.style.display =\n",
              "          google.colab.kernel.accessAllowed ? 'block' : 'none';\n",
              "\n",
              "        async function convertToInteractive(key) {\n",
              "          const element = document.querySelector('#df-9bad20b9-0777-47bb-aab3-9866486e6141');\n",
              "          const dataTable =\n",
              "            await google.colab.kernel.invokeFunction('convertToInteractive',\n",
              "                                                     [key], {});\n",
              "          if (!dataTable) return;\n",
              "\n",
              "          const docLinkHtml = 'Like what you see? Visit the ' +\n",
              "            '<a target=\"_blank\" href=https://colab.research.google.com/notebooks/data_table.ipynb>data table notebook</a>'\n",
              "            + ' to learn more about interactive tables.';\n",
              "          element.innerHTML = '';\n",
              "          dataTable['output_type'] = 'display_data';\n",
              "          await google.colab.output.renderOutput(dataTable, element);\n",
              "          const docLink = document.createElement('div');\n",
              "          docLink.innerHTML = docLinkHtml;\n",
              "          element.appendChild(docLink);\n",
              "        }\n",
              "      </script>\n",
              "    </div>\n",
              "  </div>\n",
              "  "
            ]
          },
          "metadata": {},
          "execution_count": 14
        }
      ],
      "source": [
        "df[df['Selling_Price']>df['Selling_Price'].quantile(0.99)]"
      ]
    },
    {
      "cell_type": "code",
      "execution_count": 15,
      "id": "4ca8f457",
      "metadata": {
        "execution": {
          "iopub.execute_input": "2022-08-11T08:28:19.681048Z",
          "iopub.status.busy": "2022-08-11T08:28:19.680673Z",
          "iopub.status.idle": "2022-08-11T08:28:19.697765Z",
          "shell.execute_reply": "2022-08-11T08:28:19.696615Z"
        },
        "papermill": {
          "duration": 0.033856,
          "end_time": "2022-08-11T08:28:19.700132",
          "exception": false,
          "start_time": "2022-08-11T08:28:19.666276",
          "status": "completed"
        },
        "tags": [],
        "colab": {
          "base_uri": "https://localhost:8080/",
          "height": 143
        },
        "id": "4ca8f457",
        "outputId": "92bdb4d3-5b68-42b2-ae0f-82220469e6d1"
      },
      "outputs": [
        {
          "output_type": "execute_result",
          "data": {
            "text/plain": [
              "          Car_Name  Selling_Price  Present_Price  Kms_Driven Fuel_Type  \\\n",
              "84          innova           3.49          13.46      197176    Diesel   \n",
              "179  Honda Karizma           0.31           1.05      213000    Petrol   \n",
              "196      Activa 3g           0.17           0.52      500000    Petrol   \n",
              "\n",
              "    Seller_Type Transmission  Past_Owner  Age  \n",
              "84       Dealer       Manual           0   17  \n",
              "179  Individual       Manual           0   12  \n",
              "196  Individual    Automatic           0   14  "
            ],
            "text/html": [
              "\n",
              "  <div id=\"df-957cd91c-a2ba-46a1-9120-6b01f6acb9e8\">\n",
              "    <div class=\"colab-df-container\">\n",
              "      <div>\n",
              "<style scoped>\n",
              "    .dataframe tbody tr th:only-of-type {\n",
              "        vertical-align: middle;\n",
              "    }\n",
              "\n",
              "    .dataframe tbody tr th {\n",
              "        vertical-align: top;\n",
              "    }\n",
              "\n",
              "    .dataframe thead th {\n",
              "        text-align: right;\n",
              "    }\n",
              "</style>\n",
              "<table border=\"1\" class=\"dataframe\">\n",
              "  <thead>\n",
              "    <tr style=\"text-align: right;\">\n",
              "      <th></th>\n",
              "      <th>Car_Name</th>\n",
              "      <th>Selling_Price</th>\n",
              "      <th>Present_Price</th>\n",
              "      <th>Kms_Driven</th>\n",
              "      <th>Fuel_Type</th>\n",
              "      <th>Seller_Type</th>\n",
              "      <th>Transmission</th>\n",
              "      <th>Past_Owner</th>\n",
              "      <th>Age</th>\n",
              "    </tr>\n",
              "  </thead>\n",
              "  <tbody>\n",
              "    <tr>\n",
              "      <th>84</th>\n",
              "      <td>innova</td>\n",
              "      <td>3.49</td>\n",
              "      <td>13.46</td>\n",
              "      <td>197176</td>\n",
              "      <td>Diesel</td>\n",
              "      <td>Dealer</td>\n",
              "      <td>Manual</td>\n",
              "      <td>0</td>\n",
              "      <td>17</td>\n",
              "    </tr>\n",
              "    <tr>\n",
              "      <th>179</th>\n",
              "      <td>Honda Karizma</td>\n",
              "      <td>0.31</td>\n",
              "      <td>1.05</td>\n",
              "      <td>213000</td>\n",
              "      <td>Petrol</td>\n",
              "      <td>Individual</td>\n",
              "      <td>Manual</td>\n",
              "      <td>0</td>\n",
              "      <td>12</td>\n",
              "    </tr>\n",
              "    <tr>\n",
              "      <th>196</th>\n",
              "      <td>Activa 3g</td>\n",
              "      <td>0.17</td>\n",
              "      <td>0.52</td>\n",
              "      <td>500000</td>\n",
              "      <td>Petrol</td>\n",
              "      <td>Individual</td>\n",
              "      <td>Automatic</td>\n",
              "      <td>0</td>\n",
              "      <td>14</td>\n",
              "    </tr>\n",
              "  </tbody>\n",
              "</table>\n",
              "</div>\n",
              "      <button class=\"colab-df-convert\" onclick=\"convertToInteractive('df-957cd91c-a2ba-46a1-9120-6b01f6acb9e8')\"\n",
              "              title=\"Convert this dataframe to an interactive table.\"\n",
              "              style=\"display:none;\">\n",
              "        \n",
              "  <svg xmlns=\"http://www.w3.org/2000/svg\" height=\"24px\"viewBox=\"0 0 24 24\"\n",
              "       width=\"24px\">\n",
              "    <path d=\"M0 0h24v24H0V0z\" fill=\"none\"/>\n",
              "    <path d=\"M18.56 5.44l.94 2.06.94-2.06 2.06-.94-2.06-.94-.94-2.06-.94 2.06-2.06.94zm-11 1L8.5 8.5l.94-2.06 2.06-.94-2.06-.94L8.5 2.5l-.94 2.06-2.06.94zm10 10l.94 2.06.94-2.06 2.06-.94-2.06-.94-.94-2.06-.94 2.06-2.06.94z\"/><path d=\"M17.41 7.96l-1.37-1.37c-.4-.4-.92-.59-1.43-.59-.52 0-1.04.2-1.43.59L10.3 9.45l-7.72 7.72c-.78.78-.78 2.05 0 2.83L4 21.41c.39.39.9.59 1.41.59.51 0 1.02-.2 1.41-.59l7.78-7.78 2.81-2.81c.8-.78.8-2.07 0-2.86zM5.41 20L4 18.59l7.72-7.72 1.47 1.35L5.41 20z\"/>\n",
              "  </svg>\n",
              "      </button>\n",
              "      \n",
              "  <style>\n",
              "    .colab-df-container {\n",
              "      display:flex;\n",
              "      flex-wrap:wrap;\n",
              "      gap: 12px;\n",
              "    }\n",
              "\n",
              "    .colab-df-convert {\n",
              "      background-color: #E8F0FE;\n",
              "      border: none;\n",
              "      border-radius: 50%;\n",
              "      cursor: pointer;\n",
              "      display: none;\n",
              "      fill: #1967D2;\n",
              "      height: 32px;\n",
              "      padding: 0 0 0 0;\n",
              "      width: 32px;\n",
              "    }\n",
              "\n",
              "    .colab-df-convert:hover {\n",
              "      background-color: #E2EBFA;\n",
              "      box-shadow: 0px 1px 2px rgba(60, 64, 67, 0.3), 0px 1px 3px 1px rgba(60, 64, 67, 0.15);\n",
              "      fill: #174EA6;\n",
              "    }\n",
              "\n",
              "    [theme=dark] .colab-df-convert {\n",
              "      background-color: #3B4455;\n",
              "      fill: #D2E3FC;\n",
              "    }\n",
              "\n",
              "    [theme=dark] .colab-df-convert:hover {\n",
              "      background-color: #434B5C;\n",
              "      box-shadow: 0px 1px 3px 1px rgba(0, 0, 0, 0.15);\n",
              "      filter: drop-shadow(0px 1px 2px rgba(0, 0, 0, 0.3));\n",
              "      fill: #FFFFFF;\n",
              "    }\n",
              "  </style>\n",
              "\n",
              "      <script>\n",
              "        const buttonEl =\n",
              "          document.querySelector('#df-957cd91c-a2ba-46a1-9120-6b01f6acb9e8 button.colab-df-convert');\n",
              "        buttonEl.style.display =\n",
              "          google.colab.kernel.accessAllowed ? 'block' : 'none';\n",
              "\n",
              "        async function convertToInteractive(key) {\n",
              "          const element = document.querySelector('#df-957cd91c-a2ba-46a1-9120-6b01f6acb9e8');\n",
              "          const dataTable =\n",
              "            await google.colab.kernel.invokeFunction('convertToInteractive',\n",
              "                                                     [key], {});\n",
              "          if (!dataTable) return;\n",
              "\n",
              "          const docLinkHtml = 'Like what you see? Visit the ' +\n",
              "            '<a target=\"_blank\" href=https://colab.research.google.com/notebooks/data_table.ipynb>data table notebook</a>'\n",
              "            + ' to learn more about interactive tables.';\n",
              "          element.innerHTML = '';\n",
              "          dataTable['output_type'] = 'display_data';\n",
              "          await google.colab.output.renderOutput(dataTable, element);\n",
              "          const docLink = document.createElement('div');\n",
              "          docLink.innerHTML = docLinkHtml;\n",
              "          element.appendChild(docLink);\n",
              "        }\n",
              "      </script>\n",
              "    </div>\n",
              "  </div>\n",
              "  "
            ]
          },
          "metadata": {},
          "execution_count": 15
        }
      ],
      "source": [
        "df[df['Kms_Driven']>df['Kms_Driven'].quantile(0.99)]"
      ]
    },
    {
      "cell_type": "code",
      "execution_count": 16,
      "id": "da39568a",
      "metadata": {
        "execution": {
          "iopub.execute_input": "2022-08-11T08:28:19.728457Z",
          "iopub.status.busy": "2022-08-11T08:28:19.727987Z",
          "iopub.status.idle": "2022-08-11T08:28:20.047522Z",
          "shell.execute_reply": "2022-08-11T08:28:20.046301Z"
        },
        "papermill": {
          "duration": 0.337332,
          "end_time": "2022-08-11T08:28:20.050668",
          "exception": false,
          "start_time": "2022-08-11T08:28:19.713336",
          "status": "completed"
        },
        "tags": [],
        "colab": {
          "base_uri": "https://localhost:8080/",
          "height": 362
        },
        "id": "da39568a",
        "outputId": "1824297b-b309-4f22-8fc9-6fcefcced1a6"
      },
      "outputs": [
        {
          "output_type": "display_data",
          "data": {
            "text/plain": [
              "<Figure size 576x396 with 2 Axes>"
            ],
            "image/png": "[encoded data removed]"
          },
          "metadata": {}
        }
      ],
      "source": [
        "#Bivariate and Multi-Variate Analysis\n",
        "sns.heatmap(df.corr(), annot=True, cmap='gnuplot')\n",
        "plt.title(\"Bivariate and Multi-Variate Analysis\")\n",
        "plt.show()"
      ]
    },
    {
      "cell_type": "code",
      "execution_count": 17,
      "id": "5968ea01",
      "metadata": {
        "execution": {
          "iopub.execute_input": "2022-08-11T08:28:20.080242Z",
          "iopub.status.busy": "2022-08-11T08:28:20.079856Z",
          "iopub.status.idle": "2022-08-11T08:28:20.088303Z",
          "shell.execute_reply": "2022-08-11T08:28:20.087518Z"
        },
        "papermill": {
          "duration": 0.025878,
          "end_time": "2022-08-11T08:28:20.090444",
          "exception": false,
          "start_time": "2022-08-11T08:28:20.064566",
          "status": "completed"
        },
        "tags": [],
        "colab": {
          "base_uri": "https://localhost:8080/"
        },
        "id": "5968ea01",
        "outputId": "b0a0e12c-ee5e-42e0-ddde-3a56aa40214f"
      },
      "outputs": [
        {
          "output_type": "execute_result",
          "data": {
            "text/plain": [
              "Selling_Price    1.000000\n",
              "Present_Price    0.878983\n",
              "Kms_Driven       0.029187\n",
              "Past_Owner      -0.088344\n",
              "Age             -0.236141\n",
              "Name: Selling_Price, dtype: float64"
            ]
          },
          "metadata": {},
          "execution_count": 17
        }
      ],
      "source": [
        "df.corr()['Selling_Price']"
      ]
    },
    {
      "cell_type": "code",
      "source": [
        "df.corr()['Present_Price']"
      ],
      "metadata": {
        "colab": {
          "base_uri": "https://localhost:8080/"
        },
        "id": "D_jN5AZkMNpD",
        "outputId": "ea5b16ca-dc0c-4ab4-8269-af1a13f625a5"
      },
      "id": "D_jN5AZkMNpD",
      "execution_count": 18,
      "outputs": [
        {
          "output_type": "execute_result",
          "data": {
            "text/plain": [
              "Selling_Price    0.878983\n",
              "Present_Price    1.000000\n",
              "Kms_Driven       0.203647\n",
              "Past_Owner       0.008057\n",
              "Age              0.047584\n",
              "Name: Present_Price, dtype: float64"
            ]
          },
          "metadata": {},
          "execution_count": 18
        }
      ]
    },
    {
      "cell_type": "code",
      "execution_count": 19,
      "id": "654c3473",
      "metadata": {
        "execution": {
          "iopub.execute_input": "2022-08-11T08:28:20.120373Z",
          "iopub.status.busy": "2022-08-11T08:28:20.119589Z",
          "iopub.status.idle": "2022-08-11T08:28:20.145290Z",
          "shell.execute_reply": "2022-08-11T08:28:20.144512Z"
        },
        "papermill": {
          "duration": 0.043313,
          "end_time": "2022-08-11T08:28:20.147615",
          "exception": false,
          "start_time": "2022-08-11T08:28:20.104302",
          "status": "completed"
        },
        "tags": [],
        "colab": {
          "base_uri": "https://localhost:8080/",
          "height": 143
        },
        "id": "654c3473",
        "outputId": "07642cc7-44d7-48a7-cf56-0c7d25ce2c5d"
      },
      "outputs": [
        {
          "output_type": "execute_result",
          "data": {
            "text/plain": [
              "Fuel_Type    CNG     Diesel    Petrol\n",
              "Seller_Type                          \n",
              "Dealer       3.1  10.181525  5.252388\n",
              "Individual   NaN  16.000000  0.726857"
            ],
            "text/html": [
              "\n",
              "  <div id=\"df-cd97c7ba-2a25-4560-9803-48f7339c1c55\">\n",
              "    <div class=\"colab-df-container\">\n",
              "      <div>\n",
              "<style scoped>\n",
              "    .dataframe tbody tr th:only-of-type {\n",
              "        vertical-align: middle;\n",
              "    }\n",
              "\n",
              "    .dataframe tbody tr th {\n",
              "        vertical-align: top;\n",
              "    }\n",
              "\n",
              "    .dataframe thead th {\n",
              "        text-align: right;\n",
              "    }\n",
              "</style>\n",
              "<table border=\"1\" class=\"dataframe\">\n",
              "  <thead>\n",
              "    <tr style=\"text-align: right;\">\n",
              "      <th>Fuel_Type</th>\n",
              "      <th>CNG</th>\n",
              "      <th>Diesel</th>\n",
              "      <th>Petrol</th>\n",
              "    </tr>\n",
              "    <tr>\n",
              "      <th>Seller_Type</th>\n",
              "      <th></th>\n",
              "      <th></th>\n",
              "      <th></th>\n",
              "    </tr>\n",
              "  </thead>\n",
              "  <tbody>\n",
              "    <tr>\n",
              "      <th>Dealer</th>\n",
              "      <td>3.1</td>\n",
              "      <td>10.181525</td>\n",
              "      <td>5.252388</td>\n",
              "    </tr>\n",
              "    <tr>\n",
              "      <th>Individual</th>\n",
              "      <td>NaN</td>\n",
              "      <td>16.000000</td>\n",
              "      <td>0.726857</td>\n",
              "    </tr>\n",
              "  </tbody>\n",
              "</table>\n",
              "</div>\n",
              "      <button class=\"colab-df-convert\" onclick=\"convertToInteractive('df-cd97c7ba-2a25-4560-9803-48f7339c1c55')\"\n",
              "              title=\"Convert this dataframe to an interactive table.\"\n",
              "              style=\"display:none;\">\n",
              "        \n",
              "  <svg xmlns=\"http://www.w3.org/2000/svg\" height=\"24px\"viewBox=\"0 0 24 24\"\n",
              "       width=\"24px\">\n",
              "    <path d=\"M0 0h24v24H0V0z\" fill=\"none\"/>\n",
              "    <path d=\"M18.56 5.44l.94 2.06.94-2.06 2.06-.94-2.06-.94-.94-2.06-.94 2.06-2.06.94zm-11 1L8.5 8.5l.94-2.06 2.06-.94-2.06-.94L8.5 2.5l-.94 2.06-2.06.94zm10 10l.94 2.06.94-2.06 2.06-.94-2.06-.94-.94-2.06-.94 2.06-2.06.94z\"/><path d=\"M17.41 7.96l-1.37-1.37c-.4-.4-.92-.59-1.43-.59-.52 0-1.04.2-1.43.59L10.3 9.45l-7.72 7.72c-.78.78-.78 2.05 0 2.83L4 21.41c.39.39.9.59 1.41.59.51 0 1.02-.2 1.41-.59l7.78-7.78 2.81-2.81c.8-.78.8-2.07 0-2.86zM5.41 20L4 18.59l7.72-7.72 1.47 1.35L5.41 20z\"/>\n",
              "  </svg>\n",
              "      </button>\n",
              "      \n",
              "  <style>\n",
              "    .colab-df-container {\n",
              "      display:flex;\n",
              "      flex-wrap:wrap;\n",
              "      gap: 12px;\n",
              "    }\n",
              "\n",
              "    .colab-df-convert {\n",
              "      background-color: #E8F0FE;\n",
              "      border: none;\n",
              "      border-radius: 50%;\n",
              "      cursor: pointer;\n",
              "      display: none;\n",
              "      fill: #1967D2;\n",
              "      height: 32px;\n",
              "      padding: 0 0 0 0;\n",
              "      width: 32px;\n",
              "    }\n",
              "\n",
              "    .colab-df-convert:hover {\n",
              "      background-color: #E2EBFA;\n",
              "      box-shadow: 0px 1px 2px rgba(60, 64, 67, 0.3), 0px 1px 3px 1px rgba(60, 64, 67, 0.15);\n",
              "      fill: #174EA6;\n",
              "    }\n",
              "\n",
              "    [theme=dark] .colab-df-convert {\n",
              "      background-color: #3B4455;\n",
              "      fill: #D2E3FC;\n",
              "    }\n",
              "\n",
              "    [theme=dark] .colab-df-convert:hover {\n",
              "      background-color: #434B5C;\n",
              "      box-shadow: 0px 1px 3px 1px rgba(0, 0, 0, 0.15);\n",
              "      filter: drop-shadow(0px 1px 2px rgba(0, 0, 0, 0.3));\n",
              "      fill: #FFFFFF;\n",
              "    }\n",
              "  </style>\n",
              "\n",
              "      <script>\n",
              "        const buttonEl =\n",
              "          document.querySelector('#df-cd97c7ba-2a25-4560-9803-48f7339c1c55 button.colab-df-convert');\n",
              "        buttonEl.style.display =\n",
              "          google.colab.kernel.accessAllowed ? 'block' : 'none';\n",
              "\n",
              "        async function convertToInteractive(key) {\n",
              "          const element = document.querySelector('#df-cd97c7ba-2a25-4560-9803-48f7339c1c55');\n",
              "          const dataTable =\n",
              "            await google.colab.kernel.invokeFunction('convertToInteractive',\n",
              "                                                     [key], {});\n",
              "          if (!dataTable) return;\n",
              "\n",
              "          const docLinkHtml = 'Like what you see? Visit the ' +\n",
              "            '<a target=\"_blank\" href=https://colab.research.google.com/notebooks/data_table.ipynb>data table notebook</a>'\n",
              "            + ' to learn more about interactive tables.';\n",
              "          element.innerHTML = '';\n",
              "          dataTable['output_type'] = 'display_data';\n",
              "          await google.colab.output.renderOutput(dataTable, element);\n",
              "          const docLink = document.createElement('div');\n",
              "          docLink.innerHTML = docLinkHtml;\n",
              "          element.appendChild(docLink);\n",
              "        }\n",
              "      </script>\n",
              "    </div>\n",
              "  </div>\n",
              "  "
            ]
          },
          "metadata": {},
          "execution_count": 19
        }
      ],
      "source": [
        "df.pivot_table(values='Selling_Price', index='Seller_Type', columns='Fuel_Type')"
      ]
    },
    {
      "cell_type": "code",
      "execution_count": 20,
      "id": "8a708dcd",
      "metadata": {
        "execution": {
          "iopub.execute_input": "2022-08-11T08:28:20.177555Z",
          "iopub.status.busy": "2022-08-11T08:28:20.177120Z",
          "iopub.status.idle": "2022-08-11T08:28:20.195640Z",
          "shell.execute_reply": "2022-08-11T08:28:20.194718Z"
        },
        "papermill": {
          "duration": 0.035911,
          "end_time": "2022-08-11T08:28:20.197775",
          "exception": false,
          "start_time": "2022-08-11T08:28:20.161864",
          "status": "completed"
        },
        "tags": [],
        "colab": {
          "base_uri": "https://localhost:8080/",
          "height": 143
        },
        "id": "8a708dcd",
        "outputId": "12f8929b-f46f-483c-c566-da4bb9eba267"
      },
      "outputs": [
        {
          "output_type": "execute_result",
          "data": {
            "text/plain": [
              "Transmission  Automatic    Manual\n",
              "Seller_Type                      \n",
              "Dealer        12.246552  5.756506\n",
              "Individual     1.968182  0.743895"
            ],
            "text/html": [
              "\n",
              "  <div id=\"df-1a44cc81-329c-49a6-8979-3164a4ed8c4f\">\n",
              "    <div class=\"colab-df-container\">\n",
              "      <div>\n",
              "<style scoped>\n",
              "    .dataframe tbody tr th:only-of-type {\n",
              "        vertical-align: middle;\n",
              "    }\n",
              "\n",
              "    .dataframe tbody tr th {\n",
              "        vertical-align: top;\n",
              "    }\n",
              "\n",
              "    .dataframe thead th {\n",
              "        text-align: right;\n",
              "    }\n",
              "</style>\n",
              "<table border=\"1\" class=\"dataframe\">\n",
              "  <thead>\n",
              "    <tr style=\"text-align: right;\">\n",
              "      <th>Transmission</th>\n",
              "      <th>Automatic</th>\n",
              "      <th>Manual</th>\n",
              "    </tr>\n",
              "    <tr>\n",
              "      <th>Seller_Type</th>\n",
              "      <th></th>\n",
              "      <th></th>\n",
              "    </tr>\n",
              "  </thead>\n",
              "  <tbody>\n",
              "    <tr>\n",
              "      <th>Dealer</th>\n",
              "      <td>12.246552</td>\n",
              "      <td>5.756506</td>\n",
              "    </tr>\n",
              "    <tr>\n",
              "      <th>Individual</th>\n",
              "      <td>1.968182</td>\n",
              "      <td>0.743895</td>\n",
              "    </tr>\n",
              "  </tbody>\n",
              "</table>\n",
              "</div>\n",
              "      <button class=\"colab-df-convert\" onclick=\"convertToInteractive('df-1a44cc81-329c-49a6-8979-3164a4ed8c4f')\"\n",
              "              title=\"Convert this dataframe to an interactive table.\"\n",
              "              style=\"display:none;\">\n",
              "        \n",
              "  <svg xmlns=\"http://www.w3.org/2000/svg\" height=\"24px\"viewBox=\"0 0 24 24\"\n",
              "       width=\"24px\">\n",
              "    <path d=\"M0 0h24v24H0V0z\" fill=\"none\"/>\n",
              "    <path d=\"M18.56 5.44l.94 2.06.94-2.06 2.06-.94-2.06-.94-.94-2.06-.94 2.06-2.06.94zm-11 1L8.5 8.5l.94-2.06 2.06-.94-2.06-.94L8.5 2.5l-.94 2.06-2.06.94zm10 10l.94 2.06.94-2.06 2.06-.94-2.06-.94-.94-2.06-.94 2.06-2.06.94z\"/><path d=\"M17.41 7.96l-1.37-1.37c-.4-.4-.92-.59-1.43-.59-.52 0-1.04.2-1.43.59L10.3 9.45l-7.72 7.72c-.78.78-.78 2.05 0 2.83L4 21.41c.39.39.9.59 1.41.59.51 0 1.02-.2 1.41-.59l7.78-7.78 2.81-2.81c.8-.78.8-2.07 0-2.86zM5.41 20L4 18.59l7.72-7.72 1.47 1.35L5.41 20z\"/>\n",
              "  </svg>\n",
              "      </button>\n",
              "      \n",
              "  <style>\n",
              "    .colab-df-container {\n",
              "      display:flex;\n",
              "      flex-wrap:wrap;\n",
              "      gap: 12px;\n",
              "    }\n",
              "\n",
              "    .colab-df-convert {\n",
              "      background-color: #E8F0FE;\n",
              "      border: none;\n",
              "      border-radius: 50%;\n",
              "      cursor: pointer;\n",
              "      display: none;\n",
              "      fill: #1967D2;\n",
              "      height: 32px;\n",
              "      padding: 0 0 0 0;\n",
              "      width: 32px;\n",
              "    }\n",
              "\n",
              "    .colab-df-convert:hover {\n",
              "      background-color: #E2EBFA;\n",
              "      box-shadow: 0px 1px 2px rgba(60, 64, 67, 0.3), 0px 1px 3px 1px rgba(60, 64, 67, 0.15);\n",
              "      fill: #174EA6;\n",
              "    }\n",
              "\n",
              "    [theme=dark] .colab-df-convert {\n",
              "      background-color: #3B4455;\n",
              "      fill: #D2E3FC;\n",
              "    }\n",
              "\n",
              "    [theme=dark] .colab-df-convert:hover {\n",
              "      background-color: #434B5C;\n",
              "      box-shadow: 0px 1px 3px 1px rgba(0, 0, 0, 0.15);\n",
              "      filter: drop-shadow(0px 1px 2px rgba(0, 0, 0, 0.3));\n",
              "      fill: #FFFFFF;\n",
              "    }\n",
              "  </style>\n",
              "\n",
              "      <script>\n",
              "        const buttonEl =\n",
              "          document.querySelector('#df-1a44cc81-329c-49a6-8979-3164a4ed8c4f button.colab-df-convert');\n",
              "        buttonEl.style.display =\n",
              "          google.colab.kernel.accessAllowed ? 'block' : 'none';\n",
              "\n",
              "        async function convertToInteractive(key) {\n",
              "          const element = document.querySelector('#df-1a44cc81-329c-49a6-8979-3164a4ed8c4f');\n",
              "          const dataTable =\n",
              "            await google.colab.kernel.invokeFunction('convertToInteractive',\n",
              "                                                     [key], {});\n",
              "          if (!dataTable) return;\n",
              "\n",
              "          const docLinkHtml = 'Like what you see? Visit the ' +\n",
              "            '<a target=\"_blank\" href=https://colab.research.google.com/notebooks/data_table.ipynb>data table notebook</a>'\n",
              "            + ' to learn more about interactive tables.';\n",
              "          element.innerHTML = '';\n",
              "          dataTable['output_type'] = 'display_data';\n",
              "          await google.colab.output.renderOutput(dataTable, element);\n",
              "          const docLink = document.createElement('div');\n",
              "          docLink.innerHTML = docLinkHtml;\n",
              "          element.appendChild(docLink);\n",
              "        }\n",
              "      </script>\n",
              "    </div>\n",
              "  </div>\n",
              "  "
            ]
          },
          "metadata": {},
          "execution_count": 20
        }
      ],
      "source": [
        "df.pivot_table(values='Selling_Price', index='Seller_Type', columns='Transmission')"
      ]
    },
    {
      "cell_type": "markdown",
      "id": "b01a5d2b",
      "metadata": {
        "papermill": {
          "duration": 0.01354,
          "end_time": "2022-08-11T08:28:20.225306",
          "exception": false,
          "start_time": "2022-08-11T08:28:20.211766",
          "status": "completed"
        },
        "tags": [],
        "id": "b01a5d2b"
      },
      "source": [
        "# **Data Preparation**\n",
        "**Creating dummie variables for categorical features**"
      ]
    },
    {
      "cell_type": "code",
      "execution_count": 21,
      "id": "e5c09fc8",
      "metadata": {
        "execution": {
          "iopub.execute_input": "2022-08-11T08:28:20.255192Z",
          "iopub.status.busy": "2022-08-11T08:28:20.254484Z",
          "iopub.status.idle": "2022-08-11T08:28:20.269515Z",
          "shell.execute_reply": "2022-08-11T08:28:20.268517Z"
        },
        "papermill": {
          "duration": 0.032799,
          "end_time": "2022-08-11T08:28:20.271986",
          "exception": false,
          "start_time": "2022-08-11T08:28:20.239187",
          "status": "completed"
        },
        "tags": [],
        "colab": {
          "base_uri": "https://localhost:8080/",
          "height": 206
        },
        "id": "e5c09fc8",
        "outputId": "e93f97d0-678c-47fe-cdc7-dfc3ab3bf47e"
      },
      "outputs": [
        {
          "output_type": "execute_result",
          "data": {
            "text/plain": [
              "   Selling_Price  Present_Price  Kms_Driven Fuel_Type Seller_Type  \\\n",
              "0           3.35           5.59       27000    Petrol      Dealer   \n",
              "1           4.75           9.54       43000    Diesel      Dealer   \n",
              "2           7.25           9.85        6900    Petrol      Dealer   \n",
              "3           2.85           4.15        5200    Petrol      Dealer   \n",
              "4           4.60           6.87       42450    Diesel      Dealer   \n",
              "\n",
              "  Transmission  Past_Owner  Age  \n",
              "0       Manual           0    8  \n",
              "1       Manual           0    9  \n",
              "2       Manual           0    5  \n",
              "3       Manual           0   11  \n",
              "4       Manual           0    8  "
            ],
            "text/html": [
              "\n",
              "  <div id=\"df-33f53f11-1d0b-444a-9d1e-7b019003318b\">\n",
              "    <div class=\"colab-df-container\">\n",
              "      <div>\n",
              "<style scoped>\n",
              "    .dataframe tbody tr th:only-of-type {\n",
              "        vertical-align: middle;\n",
              "    }\n",
              "\n",
              "    .dataframe tbody tr th {\n",
              "        vertical-align: top;\n",
              "    }\n",
              "\n",
              "    .dataframe thead th {\n",
              "        text-align: right;\n",
              "    }\n",
              "</style>\n",
              "<table border=\"1\" class=\"dataframe\">\n",
              "  <thead>\n",
              "    <tr style=\"text-align: right;\">\n",
              "      <th></th>\n",
              "      <th>Selling_Price</th>\n",
              "      <th>Present_Price</th>\n",
              "      <th>Kms_Driven</th>\n",
              "      <th>Fuel_Type</th>\n",
              "      <th>Seller_Type</th>\n",
              "      <th>Transmission</th>\n",
              "      <th>Past_Owner</th>\n",
              "      <th>Age</th>\n",
              "    </tr>\n",
              "  </thead>\n",
              "  <tbody>\n",
              "    <tr>\n",
              "      <th>0</th>\n",
              "      <td>3.35</td>\n",
              "      <td>5.59</td>\n",
              "      <td>27000</td>\n",
              "      <td>Petrol</td>\n",
              "      <td>Dealer</td>\n",
              "      <td>Manual</td>\n",
              "      <td>0</td>\n",
              "      <td>8</td>\n",
              "    </tr>\n",
              "    <tr>\n",
              "      <th>1</th>\n",
              "      <td>4.75</td>\n",
              "      <td>9.54</td>\n",
              "      <td>43000</td>\n",
              "      <td>Diesel</td>\n",
              "      <td>Dealer</td>\n",
              "      <td>Manual</td>\n",
              "      <td>0</td>\n",
              "      <td>9</td>\n",
              "    </tr>\n",
              "    <tr>\n",
              "      <th>2</th>\n",
              "      <td>7.25</td>\n",
              "      <td>9.85</td>\n",
              "      <td>6900</td>\n",
              "      <td>Petrol</td>\n",
              "      <td>Dealer</td>\n",
              "      <td>Manual</td>\n",
              "      <td>0</td>\n",
              "      <td>5</td>\n",
              "    </tr>\n",
              "    <tr>\n",
              "      <th>3</th>\n",
              "      <td>2.85</td>\n",
              "      <td>4.15</td>\n",
              "      <td>5200</td>\n",
              "      <td>Petrol</td>\n",
              "      <td>Dealer</td>\n",
              "      <td>Manual</td>\n",
              "      <td>0</td>\n",
              "      <td>11</td>\n",
              "    </tr>\n",
              "    <tr>\n",
              "      <th>4</th>\n",
              "      <td>4.60</td>\n",
              "      <td>6.87</td>\n",
              "      <td>42450</td>\n",
              "      <td>Diesel</td>\n",
              "      <td>Dealer</td>\n",
              "      <td>Manual</td>\n",
              "      <td>0</td>\n",
              "      <td>8</td>\n",
              "    </tr>\n",
              "  </tbody>\n",
              "</table>\n",
              "</div>\n",
              "      <button class=\"colab-df-convert\" onclick=\"convertToInteractive('df-33f53f11-1d0b-444a-9d1e-7b019003318b')\"\n",
              "              title=\"Convert this dataframe to an interactive table.\"\n",
              "              style=\"display:none;\">\n",
              "        \n",
              "  <svg xmlns=\"http://www.w3.org/2000/svg\" height=\"24px\"viewBox=\"0 0 24 24\"\n",
              "       width=\"24px\">\n",
              "    <path d=\"M0 0h24v24H0V0z\" fill=\"none\"/>\n",
              "    <path d=\"M18.56 5.44l.94 2.06.94-2.06 2.06-.94-2.06-.94-.94-2.06-.94 2.06-2.06.94zm-11 1L8.5 8.5l.94-2.06 2.06-.94-2.06-.94L8.5 2.5l-.94 2.06-2.06.94zm10 10l.94 2.06.94-2.06 2.06-.94-2.06-.94-.94-2.06-.94 2.06-2.06.94z\"/><path d=\"M17.41 7.96l-1.37-1.37c-.4-.4-.92-.59-1.43-.59-.52 0-1.04.2-1.43.59L10.3 9.45l-7.72 7.72c-.78.78-.78 2.05 0 2.83L4 21.41c.39.39.9.59 1.41.59.51 0 1.02-.2 1.41-.59l7.78-7.78 2.81-2.81c.8-.78.8-2.07 0-2.86zM5.41 20L4 18.59l7.72-7.72 1.47 1.35L5.41 20z\"/>\n",
              "  </svg>\n",
              "      </button>\n",
              "      \n",
              "  <style>\n",
              "    .colab-df-container {\n",
              "      display:flex;\n",
              "      flex-wrap:wrap;\n",
              "      gap: 12px;\n",
              "    }\n",
              "\n",
              "    .colab-df-convert {\n",
              "      background-color: #E8F0FE;\n",
              "      border: none;\n",
              "      border-radius: 50%;\n",
              "      cursor: pointer;\n",
              "      display: none;\n",
              "      fill: #1967D2;\n",
              "      height: 32px;\n",
              "      padding: 0 0 0 0;\n",
              "      width: 32px;\n",
              "    }\n",
              "\n",
              "    .colab-df-convert:hover {\n",
              "      background-color: #E2EBFA;\n",
              "      box-shadow: 0px 1px 2px rgba(60, 64, 67, 0.3), 0px 1px 3px 1px rgba(60, 64, 67, 0.15);\n",
              "      fill: #174EA6;\n",
              "    }\n",
              "\n",
              "    [theme=dark] .colab-df-convert {\n",
              "      background-color: #3B4455;\n",
              "      fill: #D2E3FC;\n",
              "    }\n",
              "\n",
              "    [theme=dark] .colab-df-convert:hover {\n",
              "      background-color: #434B5C;\n",
              "      box-shadow: 0px 1px 3px 1px rgba(0, 0, 0, 0.15);\n",
              "      filter: drop-shadow(0px 1px 2px rgba(0, 0, 0, 0.3));\n",
              "      fill: #FFFFFF;\n",
              "    }\n",
              "  </style>\n",
              "\n",
              "      <script>\n",
              "        const buttonEl =\n",
              "          document.querySelector('#df-33f53f11-1d0b-444a-9d1e-7b019003318b button.colab-df-convert');\n",
              "        buttonEl.style.display =\n",
              "          google.colab.kernel.accessAllowed ? 'block' : 'none';\n",
              "\n",
              "        async function convertToInteractive(key) {\n",
              "          const element = document.querySelector('#df-33f53f11-1d0b-444a-9d1e-7b019003318b');\n",
              "          const dataTable =\n",
              "            await google.colab.kernel.invokeFunction('convertToInteractive',\n",
              "                                                     [key], {});\n",
              "          if (!dataTable) return;\n",
              "\n",
              "          const docLinkHtml = 'Like what you see? Visit the ' +\n",
              "            '<a target=\"_blank\" href=https://colab.research.google.com/notebooks/data_table.ipynb>data table notebook</a>'\n",
              "            + ' to learn more about interactive tables.';\n",
              "          element.innerHTML = '';\n",
              "          dataTable['output_type'] = 'display_data';\n",
              "          await google.colab.output.renderOutput(dataTable, element);\n",
              "          const docLink = document.createElement('div');\n",
              "          docLink.innerHTML = docLinkHtml;\n",
              "          element.appendChild(docLink);\n",
              "        }\n",
              "      </script>\n",
              "    </div>\n",
              "  </div>\n",
              "  "
            ]
          },
          "metadata": {},
          "execution_count": 21
        }
      ],
      "source": [
        "df.drop(labels='Car_Name', axis=1, inplace=True)\n",
        "df.head()"
      ]
    },
    {
      "cell_type": "code",
      "execution_count": 22,
      "id": "b2ee9394",
      "metadata": {
        "execution": {
          "iopub.execute_input": "2022-08-11T08:28:20.302133Z",
          "iopub.status.busy": "2022-08-11T08:28:20.301357Z",
          "iopub.status.idle": "2022-08-11T08:28:20.312120Z",
          "shell.execute_reply": "2022-08-11T08:28:20.311300Z"
        },
        "papermill": {
          "duration": 0.028234,
          "end_time": "2022-08-11T08:28:20.314411",
          "exception": false,
          "start_time": "2022-08-11T08:28:20.286177",
          "status": "completed"
        },
        "tags": [],
        "colab": {
          "base_uri": "https://localhost:8080/",
          "height": 270
        },
        "id": "b2ee9394",
        "outputId": "3a56af83-5736-487a-ce6c-e7f10c381519"
      },
      "outputs": [
        {
          "output_type": "execute_result",
          "data": {
            "text/plain": [
              "   Selling_Price  Present_Price  Kms_Driven  Past_Owner  Age  \\\n",
              "0           3.35           5.59       27000           0    8   \n",
              "1           4.75           9.54       43000           0    9   \n",
              "2           7.25           9.85        6900           0    5   \n",
              "3           2.85           4.15        5200           0   11   \n",
              "4           4.60           6.87       42450           0    8   \n",
              "\n",
              "   Fuel_Type_Diesel  Fuel_Type_Petrol  Seller_Type_Individual  \\\n",
              "0                 0                 1                       0   \n",
              "1                 1                 0                       0   \n",
              "2                 0                 1                       0   \n",
              "3                 0                 1                       0   \n",
              "4                 1                 0                       0   \n",
              "\n",
              "   Transmission_Manual  \n",
              "0                    1  \n",
              "1                    1  \n",
              "2                    1  \n",
              "3                    1  \n",
              "4                    1  "
            ],
            "text/html": [
              "\n",
              "  <div id=\"df-01b87959-2c5d-4c89-b457-9bd587b23318\">\n",
              "    <div class=\"colab-df-container\">\n",
              "      <div>\n",
              "<style scoped>\n",
              "    .dataframe tbody tr th:only-of-type {\n",
              "        vertical-align: middle;\n",
              "    }\n",
              "\n",
              "    .dataframe tbody tr th {\n",
              "        vertical-align: top;\n",
              "    }\n",
              "\n",
              "    .dataframe thead th {\n",
              "        text-align: right;\n",
              "    }\n",
              "</style>\n",
              "<table border=\"1\" class=\"dataframe\">\n",
              "  <thead>\n",
              "    <tr style=\"text-align: right;\">\n",
              "      <th></th>\n",
              "      <th>Selling_Price</th>\n",
              "      <th>Present_Price</th>\n",
              "      <th>Kms_Driven</th>\n",
              "      <th>Past_Owner</th>\n",
              "      <th>Age</th>\n",
              "      <th>Fuel_Type_Diesel</th>\n",
              "      <th>Fuel_Type_Petrol</th>\n",
              "      <th>Seller_Type_Individual</th>\n",
              "      <th>Transmission_Manual</th>\n",
              "    </tr>\n",
              "  </thead>\n",
              "  <tbody>\n",
              "    <tr>\n",
              "      <th>0</th>\n",
              "      <td>3.35</td>\n",
              "      <td>5.59</td>\n",
              "      <td>27000</td>\n",
              "      <td>0</td>\n",
              "      <td>8</td>\n",
              "      <td>0</td>\n",
              "      <td>1</td>\n",
              "      <td>0</td>\n",
              "      <td>1</td>\n",
              "    </tr>\n",
              "    <tr>\n",
              "      <th>1</th>\n",
              "      <td>4.75</td>\n",
              "      <td>9.54</td>\n",
              "      <td>43000</td>\n",
              "      <td>0</td>\n",
              "      <td>9</td>\n",
              "      <td>1</td>\n",
              "      <td>0</td>\n",
              "      <td>0</td>\n",
              "      <td>1</td>\n",
              "    </tr>\n",
              "    <tr>\n",
              "      <th>2</th>\n",
              "      <td>7.25</td>\n",
              "      <td>9.85</td>\n",
              "      <td>6900</td>\n",
              "      <td>0</td>\n",
              "      <td>5</td>\n",
              "      <td>0</td>\n",
              "      <td>1</td>\n",
              "      <td>0</td>\n",
              "      <td>1</td>\n",
              "    </tr>\n",
              "    <tr>\n",
              "      <th>3</th>\n",
              "      <td>2.85</td>\n",
              "      <td>4.15</td>\n",
              "      <td>5200</td>\n",
              "      <td>0</td>\n",
              "      <td>11</td>\n",
              "      <td>0</td>\n",
              "      <td>1</td>\n",
              "      <td>0</td>\n",
              "      <td>1</td>\n",
              "    </tr>\n",
              "    <tr>\n",
              "      <th>4</th>\n",
              "      <td>4.60</td>\n",
              "      <td>6.87</td>\n",
              "      <td>42450</td>\n",
              "      <td>0</td>\n",
              "      <td>8</td>\n",
              "      <td>1</td>\n",
              "      <td>0</td>\n",
              "      <td>0</td>\n",
              "      <td>1</td>\n",
              "    </tr>\n",
              "  </tbody>\n",
              "</table>\n",
              "</div>\n",
              "      <button class=\"colab-df-convert\" onclick=\"convertToInteractive('df-01b87959-2c5d-4c89-b457-9bd587b23318')\"\n",
              "              title=\"Convert this dataframe to an interactive table.\"\n",
              "              style=\"display:none;\">\n",
              "        \n",
              "  <svg xmlns=\"http://www.w3.org/2000/svg\" height=\"24px\"viewBox=\"0 0 24 24\"\n",
              "       width=\"24px\">\n",
              "    <path d=\"M0 0h24v24H0V0z\" fill=\"none\"/>\n",
              "    <path d=\"M18.56 5.44l.94 2.06.94-2.06 2.06-.94-2.06-.94-.94-2.06-.94 2.06-2.06.94zm-11 1L8.5 8.5l.94-2.06 2.06-.94-2.06-.94L8.5 2.5l-.94 2.06-2.06.94zm10 10l.94 2.06.94-2.06 2.06-.94-2.06-.94-.94-2.06-.94 2.06-2.06.94z\"/><path d=\"M17.41 7.96l-1.37-1.37c-.4-.4-.92-.59-1.43-.59-.52 0-1.04.2-1.43.59L10.3 9.45l-7.72 7.72c-.78.78-.78 2.05 0 2.83L4 21.41c.39.39.9.59 1.41.59.51 0 1.02-.2 1.41-.59l7.78-7.78 2.81-2.81c.8-.78.8-2.07 0-2.86zM5.41 20L4 18.59l7.72-7.72 1.47 1.35L5.41 20z\"/>\n",
              "  </svg>\n",
              "      </button>\n",
              "      \n",
              "  <style>\n",
              "    .colab-df-container {\n",
              "      display:flex;\n",
              "      flex-wrap:wrap;\n",
              "      gap: 12px;\n",
              "    }\n",
              "\n",
              "    .colab-df-convert {\n",
              "      background-color: #E8F0FE;\n",
              "      border: none;\n",
              "      border-radius: 50%;\n",
              "      cursor: pointer;\n",
              "      display: none;\n",
              "      fill: #1967D2;\n",
              "      height: 32px;\n",
              "      padding: 0 0 0 0;\n",
              "      width: 32px;\n",
              "    }\n",
              "\n",
              "    .colab-df-convert:hover {\n",
              "      background-color: #E2EBFA;\n",
              "      box-shadow: 0px 1px 2px rgba(60, 64, 67, 0.3), 0px 1px 3px 1px rgba(60, 64, 67, 0.15);\n",
              "      fill: #174EA6;\n",
              "    }\n",
              "\n",
              "    [theme=dark] .colab-df-convert {\n",
              "      background-color: #3B4455;\n",
              "      fill: #D2E3FC;\n",
              "    }\n",
              "\n",
              "    [theme=dark] .colab-df-convert:hover {\n",
              "      background-color: #434B5C;\n",
              "      box-shadow: 0px 1px 3px 1px rgba(0, 0, 0, 0.15);\n",
              "      filter: drop-shadow(0px 1px 2px rgba(0, 0, 0, 0.3));\n",
              "      fill: #FFFFFF;\n",
              "    }\n",
              "  </style>\n",
              "\n",
              "      <script>\n",
              "        const buttonEl =\n",
              "          document.querySelector('#df-01b87959-2c5d-4c89-b457-9bd587b23318 button.colab-df-convert');\n",
              "        buttonEl.style.display =\n",
              "          google.colab.kernel.accessAllowed ? 'block' : 'none';\n",
              "\n",
              "        async function convertToInteractive(key) {\n",
              "          const element = document.querySelector('#df-01b87959-2c5d-4c89-b457-9bd587b23318');\n",
              "          const dataTable =\n",
              "            await google.colab.kernel.invokeFunction('convertToInteractive',\n",
              "                                                     [key], {});\n",
              "          if (!dataTable) return;\n",
              "\n",
              "          const docLinkHtml = 'Like what you see? Visit the ' +\n",
              "            '<a target=\"_blank\" href=https://colab.research.google.com/notebooks/data_table.ipynb>data table notebook</a>'\n",
              "            + ' to learn more about interactive tables.';\n",
              "          element.innerHTML = '';\n",
              "          dataTable['output_type'] = 'display_data';\n",
              "          await google.colab.output.renderOutput(dataTable, element);\n",
              "          const docLink = document.createElement('div');\n",
              "          docLink.innerHTML = docLinkHtml;\n",
              "          element.appendChild(docLink);\n",
              "        }\n",
              "      </script>\n",
              "    </div>\n",
              "  </div>\n",
              "  "
            ]
          },
          "metadata": {},
          "execution_count": 22
        }
      ],
      "source": [
        "df=pd.get_dummies(data=df, drop_first=True)\n",
        "df.head()"
      ]
    },
    {
      "cell_type": "markdown",
      "id": "72898f2b",
      "metadata": {
        "papermill": {
          "duration": 0.013995,
          "end_time": "2022-08-11T08:28:20.388774",
          "exception": false,
          "start_time": "2022-08-11T08:28:20.374779",
          "status": "completed"
        },
        "tags": [],
        "id": "72898f2b"
      },
      "source": [
        "**Splitting dataset int otrain and test subsets**"
      ]
    },
    {
      "cell_type": "code",
      "execution_count": 23,
      "id": "1bd70b1e",
      "metadata": {
        "execution": {
          "iopub.execute_input": "2022-08-11T08:28:20.419239Z",
          "iopub.status.busy": "2022-08-11T08:28:20.418597Z",
          "iopub.status.idle": "2022-08-11T08:28:20.425565Z",
          "shell.execute_reply": "2022-08-11T08:28:20.424442Z"
        },
        "papermill": {
          "duration": 0.024853,
          "end_time": "2022-08-11T08:28:20.427955",
          "exception": false,
          "start_time": "2022-08-11T08:28:20.403102",
          "status": "completed"
        },
        "tags": [],
        "id": "1bd70b1e"
      },
      "outputs": [],
      "source": [
        "y=df['Selling_Price']\n",
        "X=df.drop('Selling_Price', axis=1)"
      ]
    },
    {
      "cell_type": "code",
      "execution_count": 24,
      "id": "8d951d40",
      "metadata": {
        "execution": {
          "iopub.execute_input": "2022-08-11T08:28:20.458480Z",
          "iopub.status.busy": "2022-08-11T08:28:20.458022Z",
          "iopub.status.idle": "2022-08-11T08:28:20.657842Z",
          "shell.execute_reply": "2022-08-11T08:28:20.656741Z"
        },
        "papermill": {
          "duration": 0.218191,
          "end_time": "2022-08-11T08:28:20.660523",
          "exception": false,
          "start_time": "2022-08-11T08:28:20.442332",
          "status": "completed"
        },
        "tags": [],
        "id": "8d951d40"
      },
      "outputs": [],
      "source": [
        "from sklearn.model_selection import train_test_split"
      ]
    },
    {
      "cell_type": "code",
      "execution_count": 25,
      "id": "49d0f71d",
      "metadata": {
        "execution": {
          "iopub.execute_input": "2022-08-11T08:28:20.692117Z",
          "iopub.status.busy": "2022-08-11T08:28:20.691704Z",
          "iopub.status.idle": "2022-08-11T08:28:20.700396Z",
          "shell.execute_reply": "2022-08-11T08:28:20.699617Z"
        },
        "papermill": {
          "duration": 0.027062,
          "end_time": "2022-08-11T08:28:20.702563",
          "exception": false,
          "start_time": "2022-08-11T08:28:20.675501",
          "status": "completed"
        },
        "tags": [],
        "colab": {
          "base_uri": "https://localhost:8080/"
        },
        "id": "49d0f71d",
        "outputId": "362bf36a-9b5b-47f9-d5f0-cebdd15a917c"
      },
      "outputs": [
        {
          "output_type": "stream",
          "name": "stdout",
          "text": [
            "x train:  (240, 8)\n",
            "x test:  (61, 8)\n",
            "y train:  (240,)\n",
            "y test:  (61,)\n"
          ]
        }
      ],
      "source": [
        "x_train, x_test, y_train, y_test = train_test_split(X,y, test_size=0.2, random_state=1)\n",
        "print(\"x train: \", x_train.shape)\n",
        "print(\"x test: \", x_test.shape)\n",
        "print(\"y train: \", y_train.shape)\n",
        "print(\"y test: \",y_test.shape)"
      ]
    },
    {
      "cell_type": "markdown",
      "id": "511dc46a",
      "metadata": {
        "papermill": {
          "duration": 0.01396,
          "end_time": "2022-08-11T08:28:20.731145",
          "exception": false,
          "start_time": "2022-08-11T08:28:20.717185",
          "status": "completed"
        },
        "tags": [],
        "id": "511dc46a"
      },
      "source": [
        "# **Creating models (Evaluation)**"
      ]
    },
    {
      "cell_type": "markdown",
      "id": "5d586542",
      "metadata": {
        "papermill": {
          "duration": 0.01432,
          "end_time": "2022-08-11T08:28:20.760327",
          "exception": false,
          "start_time": "2022-08-11T08:28:20.746007",
          "status": "completed"
        },
        "tags": [],
        "id": "5d586542"
      },
      "source": [
        "##**Regression models**\n",
        "\n",
        "1. Linear Regression\n",
        "2. Ridge Regression\n",
        "3. Lasso Regression\n",
        "4. Random Forest Regression\n",
        "5. Gradient Boosting regression"
      ]
    },
    {
      "cell_type": "code",
      "execution_count": 26,
      "id": "a2f22ca8",
      "metadata": {
        "execution": {
          "iopub.execute_input": "2022-08-11T08:28:20.791512Z",
          "iopub.status.busy": "2022-08-11T08:28:20.790501Z",
          "iopub.status.idle": "2022-08-11T08:28:20.795711Z",
          "shell.execute_reply": "2022-08-11T08:28:20.794590Z"
        },
        "papermill": {
          "duration": 0.023234,
          "end_time": "2022-08-11T08:28:20.798096",
          "exception": false,
          "start_time": "2022-08-11T08:28:20.774862",
          "status": "completed"
        },
        "tags": [],
        "id": "a2f22ca8"
      },
      "outputs": [],
      "source": [
        "from sklearn.metrics import r2_score\n",
        "from sklearn.model_selection import cross_val_score"
      ]
    },
    {
      "cell_type": "code",
      "execution_count": 28,
      "id": "a41db6bd",
      "metadata": {
        "execution": {
          "iopub.execute_input": "2022-08-11T08:28:20.829533Z",
          "iopub.status.busy": "2022-08-11T08:28:20.829089Z",
          "iopub.status.idle": "2022-08-11T08:28:20.840666Z",
          "shell.execute_reply": "2022-08-11T08:28:20.839487Z"
        },
        "papermill": {
          "duration": 0.030456,
          "end_time": "2022-08-11T08:28:20.843091",
          "exception": false,
          "start_time": "2022-08-11T08:28:20.812635",
          "status": "completed"
        },
        "tags": [],
        "id": "a41db6bd"
      },
      "outputs": [],
      "source": [
        "cv=[]\n",
        "r2_train=[]\n",
        "r2_test=[]\n",
        "\n",
        "def car_pred_model(model, model_name):\n",
        "    model.fit(x_train, y_train)\n",
        "    \n",
        "    #Calculating r2 score of train subset\n",
        "    y_pred_train=model.predict(x_train)\n",
        "    r2_train_model=r2_score(y_train, y_pred_train)\n",
        "    r2_train.append(round(r2_train_model, 2))\n",
        "    \n",
        "    #Calculating r2 score of test subset\n",
        "    y_pred_test=model.predict(x_test)\n",
        "    r2_test_model=r2_score(y_test, y_pred_test)\n",
        "    r2_test.append(round(r2_test_model,2))\n",
        "    \n",
        "    #r2 mean of train subset using Cross Validation\n",
        "    cross_val=cross_val_score(model, x_train, y_train, cv=5)\n",
        "    cv_mean=cross_val.mean()\n",
        "    cv.append(round(cv_mean, 2))\n",
        "    \n",
        "    print(\"Train r2 score: \", round(r2_train_model,2))\n",
        "    print(\"Test r2 score: \", round(r2_test_model,2))\n",
        "    print(\"Train cv scores: \",cross_val)\n",
        "    print(\"Train cv mean: \", round(cv_mean,2))\n",
        "    \n",
        "    #Plotting graphs\n",
        "    fig, ax= plt.subplots(1,2,figsize=(10,4))\n",
        "    ax[0].set_title(\"Residual Plot of Train samples\")\n",
        "    sns.distplot((y_train-y_pred_train), hist=False, ax=ax[0])\n",
        "    ax[0].set_xlabel('y_train - y_pred_train')\n",
        "    \n",
        "    #Y_test VS. Y_train scatter plot\n",
        "    ax[1].set_title('y_test VS. y_pred_test')\n",
        "    ax[1].scatter(x=y_test, y=y_pred_test)\n",
        "    ax[1].set_xlabel('y_test')\n",
        "    ax[1].set_ylabel('y_pred_test')\n",
        "    \n",
        "    plt.show()"
      ]
    },
    {
      "cell_type": "markdown",
      "id": "9f3aeb4e",
      "metadata": {
        "papermill": {
          "duration": 0.014242,
          "end_time": "2022-08-11T08:28:20.871877",
          "exception": false,
          "start_time": "2022-08-11T08:28:20.857635",
          "status": "completed"
        },
        "tags": [],
        "id": "9f3aeb4e"
      },
      "source": [
        "#**Linear Regression**"
      ]
    },
    {
      "cell_type": "code",
      "execution_count": 29,
      "id": "fc64e038",
      "metadata": {
        "execution": {
          "iopub.execute_input": "2022-08-11T08:28:20.902480Z",
          "iopub.status.busy": "2022-08-11T08:28:20.902035Z",
          "iopub.status.idle": "2022-08-11T08:28:21.367653Z",
          "shell.execute_reply": "2022-08-11T08:28:21.366443Z"
        },
        "papermill": {
          "duration": 0.483861,
          "end_time": "2022-08-11T08:28:21.370203",
          "exception": false,
          "start_time": "2022-08-11T08:28:20.886342",
          "status": "completed"
        },
        "tags": [],
        "colab": {
          "base_uri": "https://localhost:8080/",
          "height": 363
        },
        "id": "fc64e038",
        "outputId": "1798f0fa-a644-409e-8db1-a377d4014d6c"
      },
      "outputs": [
        {
          "output_type": "stream",
          "name": "stdout",
          "text": [
            "Train r2 score:  0.88\n",
            "Test r2 score:  0.86\n",
            "Train cv scores:  [0.89912189 0.89838688 0.82980069 0.81769076 0.76113925]\n",
            "Train cv mean:  0.84\n"
          ]
        },
        {
          "output_type": "display_data",
          "data": {
            "text/plain": [
              "<Figure size 720x288 with 2 Axes>"
            ],
            "image/png": "[encoded data removed]"
          },
          "metadata": {}
        }
      ],
      "source": [
        "from sklearn.linear_model import LinearRegression\n",
        "\n",
        "lr=LinearRegression()\n",
        "car_pred_model(lr, \"Linear_regressor.pkl\")"
      ]
    },
    {
      "cell_type": "markdown",
      "id": "51f6c037",
      "metadata": {
        "papermill": {
          "duration": 0.01476,
          "end_time": "2022-08-11T08:28:21.400255",
          "exception": false,
          "start_time": "2022-08-11T08:28:21.385495",
          "status": "completed"
        },
        "tags": [],
        "id": "51f6c037"
      },
      "source": [
        "#**Ridge**"
      ]
    },
    {
      "cell_type": "code",
      "execution_count": 30,
      "id": "7d54d2a4",
      "metadata": {
        "execution": {
          "iopub.execute_input": "2022-08-11T08:28:21.432565Z",
          "iopub.status.busy": "2022-08-11T08:28:21.431720Z",
          "iopub.status.idle": "2022-08-11T08:28:23.211407Z",
          "shell.execute_reply": "2022-08-11T08:28:23.210253Z"
        },
        "papermill": {
          "duration": 1.798489,
          "end_time": "2022-08-11T08:28:23.213741",
          "exception": false,
          "start_time": "2022-08-11T08:28:21.415252",
          "status": "completed"
        },
        "tags": [],
        "colab": {
          "base_uri": "https://localhost:8080/",
          "height": 363
        },
        "id": "7d54d2a4",
        "outputId": "f696bb8b-6171-4943-e49c-4e69e33c90f9"
      },
      "outputs": [
        {
          "output_type": "stream",
          "name": "stdout",
          "text": [
            "Train r2 score:  0.88\n",
            "Test r2 score:  0.86\n",
            "Train cv scores:  [0.89911673 0.8983878  0.82980715 0.81769305 0.73377277]\n",
            "Train cv mean:  0.84\n"
          ]
        },
        {
          "output_type": "display_data",
          "data": {
            "text/plain": [
              "<Figure size 720x288 with 2 Axes>"
            ],
            "image/png": "[encoded data removed]"
          },
          "metadata": {}
        }
      ],
      "source": [
        "from sklearn.linear_model import Ridge\n",
        "from sklearn.model_selection import RandomizedSearchCV\n",
        "\n",
        "#Creating Ridge model object\n",
        "rg=Ridge()\n",
        "#Range of Alpha\n",
        "alpha = np.logspace(-3,3,num=14)\n",
        "\n",
        "#Creating Randomized Search CV in order to find the best estimator of hyperparameter\n",
        "rg_rs=RandomizedSearchCV(estimator=rg, param_distributions=dict(alpha=alpha))\n",
        "\n",
        "car_pred_model(rg_rs, \"ridge.pkl\")"
      ]
    },
    {
      "cell_type": "markdown",
      "source": [
        "#**Lasso**"
      ],
      "metadata": {
        "id": "mjW42M-3TUJY"
      },
      "id": "mjW42M-3TUJY"
    },
    {
      "cell_type": "code",
      "execution_count": 31,
      "id": "cf9daff7",
      "metadata": {
        "execution": {
          "iopub.execute_input": "2022-08-11T08:28:23.277666Z",
          "iopub.status.busy": "2022-08-11T08:28:23.277228Z",
          "iopub.status.idle": "2022-08-11T08:28:23.283525Z",
          "shell.execute_reply": "2022-08-11T08:28:23.282491Z"
        },
        "papermill": {
          "duration": 0.025299,
          "end_time": "2022-08-11T08:28:23.285813",
          "exception": false,
          "start_time": "2022-08-11T08:28:23.260514",
          "status": "completed"
        },
        "tags": [],
        "id": "cf9daff7"
      },
      "outputs": [],
      "source": [
        "from sklearn.linear_model import Lasso\n",
        "from sklearn.model_selection import RandomizedSearchCV\n",
        "\n",
        "ls=Lasso()\n",
        "alpha=np.logspace(-3,3,num=14) #range for alpha\n",
        "\n",
        "ls_rs=RandomizedSearchCV(estimator=ls, param_distributions=dict(alpha=alpha))"
      ]
    },
    {
      "cell_type": "code",
      "execution_count": 32,
      "id": "2dffbc26",
      "metadata": {
        "execution": {
          "iopub.execute_input": "2022-08-11T08:28:23.319036Z",
          "iopub.status.busy": "2022-08-11T08:28:23.318323Z",
          "iopub.status.idle": "2022-08-11T08:28:25.140305Z",
          "shell.execute_reply": "2022-08-11T08:28:25.139115Z"
        },
        "papermill": {
          "duration": 1.841334,
          "end_time": "2022-08-11T08:28:25.142843",
          "exception": false,
          "start_time": "2022-08-11T08:28:23.301509",
          "status": "completed"
        },
        "tags": [],
        "colab": {
          "base_uri": "https://localhost:8080/",
          "height": 363
        },
        "id": "2dffbc26",
        "outputId": "6ecffd00-0776-40ac-b361-2dfd0e66458c"
      },
      "outputs": [
        {
          "output_type": "stream",
          "name": "stdout",
          "text": [
            "Train r2 score:  0.88\n",
            "Test r2 score:  0.86\n",
            "Train cv scores:  [0.89913828 0.89975361 0.83196652 0.81785432 0.70210321]\n",
            "Train cv mean:  0.83\n"
          ]
        },
        {
          "output_type": "display_data",
          "data": {
            "text/plain": [
              "<Figure size 720x288 with 2 Axes>"
            ],
            "image/png": "[encoded data removed]"
          },
          "metadata": {}
        }
      ],
      "source": [
        "car_pred_model(ls_rs,'lasso.pkl')"
      ]
    },
    {
      "cell_type": "markdown",
      "id": "29071060",
      "metadata": {
        "papermill": {
          "duration": 0.015876,
          "end_time": "2022-08-11T08:28:25.175198",
          "exception": false,
          "start_time": "2022-08-11T08:28:25.159322",
          "status": "completed"
        },
        "tags": [],
        "id": "29071060"
      },
      "source": [
        "#**Random Forest**"
      ]
    },
    {
      "cell_type": "code",
      "execution_count": 33,
      "id": "d6ac7e47",
      "metadata": {
        "execution": {
          "iopub.execute_input": "2022-08-11T08:28:25.210093Z",
          "iopub.status.busy": "2022-08-11T08:28:25.209660Z",
          "iopub.status.idle": "2022-08-11T08:28:25.365107Z",
          "shell.execute_reply": "2022-08-11T08:28:25.363848Z"
        },
        "papermill": {
          "duration": 0.176787,
          "end_time": "2022-08-11T08:28:25.368342",
          "exception": false,
          "start_time": "2022-08-11T08:28:25.191555",
          "status": "completed"
        },
        "tags": [],
        "id": "d6ac7e47"
      },
      "outputs": [],
      "source": [
        "from sklearn.ensemble import RandomForestRegressor\n",
        "from sklearn.model_selection import RandomizedSearchCV\n",
        "\n",
        "rf = RandomForestRegressor()\n",
        "\n",
        "# Number of trees in Random forest\n",
        "n_estimators=list(range(500,1000,100))\n",
        "# Maximum number of levels in a tree\n",
        "max_depth=list(range(4,9,4))\n",
        "# Minimum number of samples required to split an internal node\n",
        "min_samples_split=list(range(4,9,2))\n",
        "# Minimum number of samples required to be at a leaf node.\n",
        "min_samples_leaf=[1,2,5,7]\n",
        "# Number of fearures to be considered at each split\n",
        "max_features=['auto','sqrt']\n",
        "\n",
        "# Hyperparameters dict\n",
        "param_grid = {\"n_estimators\":n_estimators,\n",
        "              \"max_depth\":max_depth,\n",
        "              \"min_samples_split\":min_samples_split,\n",
        "              \"min_samples_leaf\":min_samples_leaf,\n",
        "              \"max_features\":max_features}\n",
        "\n",
        "rf_rs = RandomizedSearchCV(estimator = rf, param_distributions = param_grid)"
      ]
    },
    {
      "cell_type": "code",
      "execution_count": 34,
      "id": "431c97c5",
      "metadata": {
        "execution": {
          "iopub.execute_input": "2022-08-11T08:28:25.403554Z",
          "iopub.status.busy": "2022-08-11T08:28:25.402893Z",
          "iopub.status.idle": "2022-08-11T08:33:07.628160Z",
          "shell.execute_reply": "2022-08-11T08:33:07.626891Z"
        },
        "papermill": {
          "duration": 282.245907,
          "end_time": "2022-08-11T08:33:07.630711",
          "exception": false,
          "start_time": "2022-08-11T08:28:25.384804",
          "status": "completed"
        },
        "tags": [],
        "colab": {
          "base_uri": "https://localhost:8080/",
          "height": 363
        },
        "id": "431c97c5",
        "outputId": "0568813a-741f-4ce5-a5b8-499df7ae3918"
      },
      "outputs": [
        {
          "output_type": "stream",
          "name": "stdout",
          "text": [
            "Train r2 score:  0.95\n",
            "Test r2 score:  0.83\n",
            "Train cv scores:  [0.87838382 0.96645285 0.84913314 0.89171388 0.73489814]\n",
            "Train cv mean:  0.86\n"
          ]
        },
        {
          "output_type": "display_data",
          "data": {
            "text/plain": [
              "<Figure size 720x288 with 2 Axes>"
            ],
            "image/png": "[encoded data removed]"
          },
          "metadata": {}
        }
      ],
      "source": [
        "car_pred_model(rf_rs,'random_forest.pkl')"
      ]
    },
    {
      "cell_type": "code",
      "execution_count": 35,
      "id": "d5bace76",
      "metadata": {
        "execution": {
          "iopub.execute_input": "2022-08-11T08:33:07.668310Z",
          "iopub.status.busy": "2022-08-11T08:33:07.667849Z",
          "iopub.status.idle": "2022-08-11T08:33:07.676132Z",
          "shell.execute_reply": "2022-08-11T08:33:07.674572Z"
        },
        "papermill": {
          "duration": 0.030172,
          "end_time": "2022-08-11T08:33:07.678964",
          "exception": false,
          "start_time": "2022-08-11T08:33:07.648792",
          "status": "completed"
        },
        "tags": [],
        "colab": {
          "base_uri": "https://localhost:8080/"
        },
        "id": "d5bace76",
        "outputId": "dc69220f-706a-4cea-8a57-99b1df832a7c"
      },
      "outputs": [
        {
          "output_type": "stream",
          "name": "stdout",
          "text": [
            "RandomForestRegressor(max_depth=8, min_samples_split=8, n_estimators=800)\n"
          ]
        }
      ],
      "source": [
        "print(rf_rs.best_estimator_)"
      ]
    },
    {
      "cell_type": "markdown",
      "source": [
        "#**Gradient Boosting**"
      ],
      "metadata": {
        "id": "UUkFTQT9RLXQ"
      },
      "id": "UUkFTQT9RLXQ"
    },
    {
      "cell_type": "code",
      "execution_count": 36,
      "id": "43e8a564",
      "metadata": {
        "execution": {
          "iopub.execute_input": "2022-08-11T08:33:07.716018Z",
          "iopub.status.busy": "2022-08-11T08:33:07.715134Z",
          "iopub.status.idle": "2022-08-11T08:33:07.723898Z",
          "shell.execute_reply": "2022-08-11T08:33:07.722841Z"
        },
        "papermill": {
          "duration": 0.030103,
          "end_time": "2022-08-11T08:33:07.726412",
          "exception": false,
          "start_time": "2022-08-11T08:33:07.696309",
          "status": "completed"
        },
        "tags": [],
        "id": "43e8a564"
      },
      "outputs": [],
      "source": [
        "#Gradient Boosting\n",
        "from sklearn.ensemble import GradientBoostingRegressor\n",
        "from sklearn.model_selection import RandomizedSearchCV\n",
        "\n",
        "gb=GradientBoostingRegressor()\n",
        "\n",
        "#Rate at which correcting is made\n",
        "learning_rate=[0.001, 0.01, 0.1, 0.2]\n",
        "#Number of trees in Gradient Boosting\n",
        "n_estimators=list(range(500,1000,100))\n",
        "#Maxiumum number of levels in a tree\n",
        "max_depth=list(range(4,9,4))\n",
        "#Minimum number of samples required to split an internal node\n",
        "min_samples_split=list(range(4,9,2))\n",
        "#Minimum number of samples required to be at a leaf node\n",
        "min_samples_leaf=[1,2,5,7]\n",
        "#Number of features to be consdered at each split\n",
        "max_features=['auto', 'sqrt']\n",
        "\n",
        "#Hyperparameters dict\n",
        "param_grid={\"learning_rate\": learning_rate, \"n_estimators\":n_estimators, \"max_depth\": max_depth, \"min_samples_split\":min_samples_split, \"min_samples_leaf\": min_samples_leaf, \"max_features\": max_features}\n",
        "\n",
        "gb_rs=RandomizedSearchCV(estimator=gb, param_distributions=param_grid)"
      ]
    },
    {
      "cell_type": "code",
      "execution_count": 37,
      "id": "958f5952",
      "metadata": {
        "execution": {
          "iopub.execute_input": "2022-08-11T08:33:07.763186Z",
          "iopub.status.busy": "2022-08-11T08:33:07.762344Z",
          "iopub.status.idle": "2022-08-11T08:34:33.467906Z",
          "shell.execute_reply": "2022-08-11T08:34:33.466712Z"
        },
        "papermill": {
          "duration": 85.727013,
          "end_time": "2022-08-11T08:34:33.470548",
          "exception": false,
          "start_time": "2022-08-11T08:33:07.743535",
          "status": "completed"
        },
        "tags": [],
        "colab": {
          "base_uri": "https://localhost:8080/",
          "height": 363
        },
        "id": "958f5952",
        "outputId": "3db66fb5-7805-4a9b-b18c-edefac5334fc"
      },
      "outputs": [
        {
          "output_type": "stream",
          "name": "stdout",
          "text": [
            "Train r2 score:  1.0\n",
            "Test r2 score:  0.94\n",
            "Train cv scores:  [0.91969886 0.90592573 0.86817363 0.94210525 0.67661495]\n",
            "Train cv mean:  0.86\n"
          ]
        },
        {
          "output_type": "display_data",
          "data": {
            "text/plain": [
              "<Figure size 720x288 with 2 Axes>"
            ],
            "image/png": "[encoded data removed]"
          },
          "metadata": {}
        }
      ],
      "source": [
        "car_pred_model(gb_rs, \"gradient_boosting.pkl\")"
      ]
    },
    {
      "cell_type": "markdown",
      "source": [
        "#**Comperision Of All Regression Models**"
      ],
      "metadata": {
        "id": "BF9yPWagSKkd"
      },
      "id": "BF9yPWagSKkd"
    },
    {
      "cell_type": "code",
      "execution_count": 43,
      "id": "7dd0dbf3",
      "metadata": {
        "execution": {
          "iopub.execute_input": "2022-08-11T08:34:33.508822Z",
          "iopub.status.busy": "2022-08-11T08:34:33.508385Z",
          "iopub.status.idle": "2022-08-11T08:34:33.523005Z",
          "shell.execute_reply": "2022-08-11T08:34:33.522109Z"
        },
        "papermill": {
          "duration": 0.0366,
          "end_time": "2022-08-11T08:34:33.525318",
          "exception": false,
          "start_time": "2022-08-11T08:34:33.488718",
          "status": "completed"
        },
        "tags": [],
        "id": "7dd0dbf3",
        "outputId": "1ecd2347-8529-44d2-8b7d-43c78ba5e6f2",
        "colab": {
          "base_uri": "https://localhost:8080/",
          "height": 206
        }
      },
      "outputs": [
        {
          "output_type": "display_data",
          "data": {
            "text/plain": [
              "                       Model  R Squared(Train)  R Squared(Test)  \\\n",
              "0           LinearRegression              0.88             0.86   \n",
              "1                      Ridge              0.88             0.86   \n",
              "2                      Lasso              0.88             0.86   \n",
              "3      RandomForestRegressor              0.95             0.83   \n",
              "4  GradientBoostingRegressor              1.00             0.94   \n",
              "\n",
              "   CV score mean (train)  \n",
              "0                   0.84  \n",
              "1                   0.84  \n",
              "2                   0.83  \n",
              "3                   0.86  \n",
              "4                   0.86  "
            ],
            "text/html": [
              "\n",
              "  <div id=\"df-0d808708-52eb-4a4e-914b-100de4fc481a\">\n",
              "    <div class=\"colab-df-container\">\n",
              "      <div>\n",
              "<style scoped>\n",
              "    .dataframe tbody tr th:only-of-type {\n",
              "        vertical-align: middle;\n",
              "    }\n",
              "\n",
              "    .dataframe tbody tr th {\n",
              "        vertical-align: top;\n",
              "    }\n",
              "\n",
              "    .dataframe thead th {\n",
              "        text-align: right;\n",
              "    }\n",
              "</style>\n",
              "<table border=\"1\" class=\"dataframe\">\n",
              "  <thead>\n",
              "    <tr style=\"text-align: right;\">\n",
              "      <th></th>\n",
              "      <th>Model</th>\n",
              "      <th>R Squared(Train)</th>\n",
              "      <th>R Squared(Test)</th>\n",
              "      <th>CV score mean (train)</th>\n",
              "    </tr>\n",
              "  </thead>\n",
              "  <tbody>\n",
              "    <tr>\n",
              "      <th>0</th>\n",
              "      <td>LinearRegression</td>\n",
              "      <td>0.88</td>\n",
              "      <td>0.86</td>\n",
              "      <td>0.84</td>\n",
              "    </tr>\n",
              "    <tr>\n",
              "      <th>1</th>\n",
              "      <td>Ridge</td>\n",
              "      <td>0.88</td>\n",
              "      <td>0.86</td>\n",
              "      <td>0.84</td>\n",
              "    </tr>\n",
              "    <tr>\n",
              "      <th>2</th>\n",
              "      <td>Lasso</td>\n",
              "      <td>0.88</td>\n",
              "      <td>0.86</td>\n",
              "      <td>0.83</td>\n",
              "    </tr>\n",
              "    <tr>\n",
              "      <th>3</th>\n",
              "      <td>RandomForestRegressor</td>\n",
              "      <td>0.95</td>\n",
              "      <td>0.83</td>\n",
              "      <td>0.86</td>\n",
              "    </tr>\n",
              "    <tr>\n",
              "      <th>4</th>\n",
              "      <td>GradientBoostingRegressor</td>\n",
              "      <td>1.00</td>\n",
              "      <td>0.94</td>\n",
              "      <td>0.86</td>\n",
              "    </tr>\n",
              "  </tbody>\n",
              "</table>\n",
              "</div>\n",
              "      <button class=\"colab-df-convert\" onclick=\"convertToInteractive('df-0d808708-52eb-4a4e-914b-100de4fc481a')\"\n",
              "              title=\"Convert this dataframe to an interactive table.\"\n",
              "              style=\"display:none;\">\n",
              "        \n",
              "  <svg xmlns=\"http://www.w3.org/2000/svg\" height=\"24px\"viewBox=\"0 0 24 24\"\n",
              "       width=\"24px\">\n",
              "    <path d=\"M0 0h24v24H0V0z\" fill=\"none\"/>\n",
              "    <path d=\"M18.56 5.44l.94 2.06.94-2.06 2.06-.94-2.06-.94-.94-2.06-.94 2.06-2.06.94zm-11 1L8.5 8.5l.94-2.06 2.06-.94-2.06-.94L8.5 2.5l-.94 2.06-2.06.94zm10 10l.94 2.06.94-2.06 2.06-.94-2.06-.94-.94-2.06-.94 2.06-2.06.94z\"/><path d=\"M17.41 7.96l-1.37-1.37c-.4-.4-.92-.59-1.43-.59-.52 0-1.04.2-1.43.59L10.3 9.45l-7.72 7.72c-.78.78-.78 2.05 0 2.83L4 21.41c.39.39.9.59 1.41.59.51 0 1.02-.2 1.41-.59l7.78-7.78 2.81-2.81c.8-.78.8-2.07 0-2.86zM5.41 20L4 18.59l7.72-7.72 1.47 1.35L5.41 20z\"/>\n",
              "  </svg>\n",
              "      </button>\n",
              "      \n",
              "  <style>\n",
              "    .colab-df-container {\n",
              "      display:flex;\n",
              "      flex-wrap:wrap;\n",
              "      gap: 12px;\n",
              "    }\n",
              "\n",
              "    .colab-df-convert {\n",
              "      background-color: #E8F0FE;\n",
              "      border: none;\n",
              "      border-radius: 50%;\n",
              "      cursor: pointer;\n",
              "      display: none;\n",
              "      fill: #1967D2;\n",
              "      height: 32px;\n",
              "      padding: 0 0 0 0;\n",
              "      width: 32px;\n",
              "    }\n",
              "\n",
              "    .colab-df-convert:hover {\n",
              "      background-color: #E2EBFA;\n",
              "      box-shadow: 0px 1px 2px rgba(60, 64, 67, 0.3), 0px 1px 3px 1px rgba(60, 64, 67, 0.15);\n",
              "      fill: #174EA6;\n",
              "    }\n",
              "\n",
              "    [theme=dark] .colab-df-convert {\n",
              "      background-color: #3B4455;\n",
              "      fill: #D2E3FC;\n",
              "    }\n",
              "\n",
              "    [theme=dark] .colab-df-convert:hover {\n",
              "      background-color: #434B5C;\n",
              "      box-shadow: 0px 1px 3px 1px rgba(0, 0, 0, 0.15);\n",
              "      filter: drop-shadow(0px 1px 2px rgba(0, 0, 0, 0.3));\n",
              "      fill: #FFFFFF;\n",
              "    }\n",
              "  </style>\n",
              "\n",
              "      <script>\n",
              "        const buttonEl =\n",
              "          document.querySelector('#df-0d808708-52eb-4a4e-914b-100de4fc481a button.colab-df-convert');\n",
              "        buttonEl.style.display =\n",
              "          google.colab.kernel.accessAllowed ? 'block' : 'none';\n",
              "\n",
              "        async function convertToInteractive(key) {\n",
              "          const element = document.querySelector('#df-0d808708-52eb-4a4e-914b-100de4fc481a');\n",
              "          const dataTable =\n",
              "            await google.colab.kernel.invokeFunction('convertToInteractive',\n",
              "                                                     [key], {});\n",
              "          if (!dataTable) return;\n",
              "\n",
              "          const docLinkHtml = 'Like what you see? Visit the ' +\n",
              "            '<a target=\"_blank\" href=https://colab.research.google.com/notebooks/data_table.ipynb>data table notebook</a>'\n",
              "            + ' to learn more about interactive tables.';\n",
              "          element.innerHTML = '';\n",
              "          dataTable['output_type'] = 'display_data';\n",
              "          await google.colab.output.renderOutput(dataTable, element);\n",
              "          const docLink = document.createElement('div');\n",
              "          docLink.innerHTML = docLinkHtml;\n",
              "          element.appendChild(docLink);\n",
              "        }\n",
              "      </script>\n",
              "    </div>\n",
              "  </div>\n",
              "  "
            ]
          },
          "metadata": {}
        }
      ],
      "source": [
        "Technique=['LinearRegression', \"Ridge\", \"Lasso\", \"RandomForestRegressor\", \"GradientBoostingRegressor\"]\n",
        "stats=pd.DataFrame({'Model':Technique, \"R Squared(Train)\": r2_train, \"R Squared(Test)\":r2_test, \"CV score mean (train)\":cv})\n",
        "display(stats)"
      ]
    },
    {
      "cell_type": "markdown",
      "source": [
        "#**Thank You :)**"
      ],
      "metadata": {
        "id": "H2dd6t1U4dtm"
      },
      "id": "H2dd6t1U4dtm"
    }
  ],
  "metadata": {
    "kernelspec": {
      "display_name": "Python 3",
      "language": "python",
      "name": "python3"
    },
    "language_info": {
      "codemirror_mode": {
        "name": "ipython",
        "version": 3
      },
      "file_extension": ".py",
      "mimetype": "text/x-python",
      "name": "python",
      "nbconvert_exporter": "python",
      "pygments_lexer": "ipython3",
      "version": "3.7.12"
    },
    "papermill": {
      "default_parameters": {},
      "duration": 388.098332,
      "end_time": "2022-08-11T08:34:34.366620",
      "environment_variables": {},
      "exception": null,
      "input_path": "__notebook__.ipynb",
      "output_path": "__notebook__.ipynb",
      "parameters": {},
      "start_time": "2022-08-11T08:28:06.268288",
      "version": "2.3.4"
    },
    "colab": {
      "name": "car-price-prediction-ml.ipynb",
      "provenance": []
    }
  },
  "nbformat": 4,
  "nbformat_minor": 5
}